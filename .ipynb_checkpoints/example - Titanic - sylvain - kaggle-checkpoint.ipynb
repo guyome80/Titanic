{
 "cells": [
  {
   "cell_type": "markdown",
   "metadata": {
    "_cell_guid": "74d9206e-26bf-43ae-842d-fd7cde01ccec",
    "_uuid": "f46bf673feef3da649cebd14e42ce26bc510ff79"
   },
   "source": [
    "# Chronicle of a tragedy: a python notebook to Titanic challenge\n",
    "*Sylvain Tostain, 2017*"
   ]
  },
  {
   "cell_type": "code",
   "execution_count": 1,
   "metadata": {
    "_cell_guid": "5eae7b89-69d0-4a3c-be8f-74d08b2282f9",
    "_uuid": "255af695bcff64e94cc7aef47a53c8f7d293f0ab",
    "scrolled": true
   },
   "outputs": [],
   "source": [
    "import numpy as np\n",
    "import pandas as pd\n",
    "import seaborn as sns\n",
    "import matplotlib.pyplot as plt\n",
    "import matplotlib.cm as cm\n",
    "\n",
    "from IPython.display import display\n",
    "\n",
    "import warnings\n",
    "warnings.filterwarnings('ignore')"
   ]
  },
  {
   "cell_type": "markdown",
   "metadata": {
    "_cell_guid": "807ad110-2b90-4569-bf0d-8232feffa74b",
    "_uuid": "be7fc49f19d0e59909f43575cf2841d28f27c719"
   },
   "source": [
    "# Introduction\n",
    "Dear Reader, welcome.\n",
    "\n",
    "This is my very first Kaggle Kernel (a tradition it seems): I hope you'll find it interesting and relevant. Of course, I welcome any comment, feel free to drop a comment and I'll try my best to reply and amend the notebook ASAP if necessary.\n",
    "\n",
    "Through this Kernel, I've tried to provide detailed guidance and explanation on every step I went through to output a cross-validated prediction, putting here an emphasis on \"data munging\". I know this is a bit long to read, but I hope you'll enjoy this chronicle of the Titanic tragedy as much as I enjoyed writing it. Don't worry, you'll find special sections with the outcomes of the main steps to keep you on tracks.\n",
    "\n",
    "For sure, this is far from being perfect, I'll provide updates in the future to improve and better document some steps. Have a nice reading, I hope to reading from you soon.\n",
    "\n",
    "# Course of action\n",
    "\n",
    "In order to build a prediction for the educational Titanic challenge, we followed this workflow that also provides a backbone to this notebook:\n",
    "1. Fetching the data,\n",
    "2. Looking at the label to predict,\n",
    "3. Exploring base features\n",
    "    * Identifying data gaps\n",
    "    * Categorical features\n",
    "    * Continuous features\n",
    "    * Unstructured data\n",
    "4. Adding new features\n",
    "5. Selecting features\n",
    "6. Building a feature extractor\n",
    "7. Building a predictor\n",
    "8. Optimising hyperparameters and cross validating\n",
    "9. Making predictions\n",
    "\n",
    "<div class=\"alert alert-success\">\n",
    "<b>Milestones</b><br><br>\n",
    "All along this notebook, we'll stop on some milestones to sum up our insights and results. These summaries will be clearly marked by this layout.</div><br>\n",
    "\n",
    "Should you wish to discuss certain aspects of this notebook or just find it interesting, feel free to leave a comment and I'll do my best to reply in a timely manner."
   ]
  },
  {
   "cell_type": "markdown",
   "metadata": {
    "_cell_guid": "b9f8c1c4-cb85-4c1e-adf0-76080c39a6ac",
    "_uuid": "8ee5828f1bb14c994ceaeaf25e0ee0c54508dbb4"
   },
   "source": [
    "# 1.Fetching the data\n",
    "To start with, let's begin by having a look at the files made available."
   ]
  },
  {
   "cell_type": "markdown",
   "metadata": {
    "_cell_guid": "12871c1c-daf5-4d03-bc3b-b8ed136d290f",
    "_uuid": "8e859136ddb23469b1ae116ddace9295ea335c1d",
    "collapsed": true
   },
   "source": [
    "#Input data files are available in the \"../input/\" directory.\n",
    "from subprocess import check_output\n",
    "print(check_output([\"ls\", \"../data\"]).decode(\"utf8\"))"
   ]
  },
  {
   "cell_type": "markdown",
   "metadata": {
    "_cell_guid": "ff109dd6-7fe8-446e-864e-19ef8c431401",
    "_uuid": "927f8ffe70f10d08eec22025073639c1a5e0403e"
   },
   "source": [
    "A `train.csv` and `test.csv` dataset are supplied together with a template for prediction submissions (`gender_submission.csv`). For the time being, we'll leave aside the test dataset and template for submission file to focus on the train dataset.\n",
    "\n",
    "Let's start by loading the train dataset at our disposal in a pandas DataFrame and then having a peek at its datatypes (the `dtypes` attribute of our newly created `data_train` pandas DataFrame)."
   ]
  },
  {
   "cell_type": "code",
   "execution_count": 5,
   "metadata": {
    "_cell_guid": "0e6938f6-fd9c-4d1f-bade-43873ce345ba",
    "_uuid": "42b3a72e92963712294d485b0e54215607be0088"
   },
   "outputs": [
    {
     "name": "stdout",
     "output_type": "stream",
     "text": [
      "<class 'pandas.core.frame.DataFrame'>\n",
      "Int64Index: 891 entries, 1 to 891\n",
      "Data columns (total 11 columns):\n",
      "Survived    891 non-null int64\n",
      "Pclass      891 non-null int64\n",
      "Name        891 non-null object\n",
      "Sex         891 non-null object\n",
      "Age         714 non-null float64\n",
      "SibSp       891 non-null int64\n",
      "Parch       891 non-null int64\n",
      "Ticket      891 non-null object\n",
      "Fare        891 non-null float64\n",
      "Cabin       204 non-null object\n",
      "Embarked    889 non-null object\n",
      "dtypes: float64(2), int64(4), object(5)\n",
      "memory usage: 83.5+ KB\n"
     ]
    }
   ],
   "source": [
    "data_train = pd.read_csv('data/train.csv', index_col=0)\n",
    "data_train.info()"
   ]
  },
  {
   "cell_type": "markdown",
   "metadata": {
    "_cell_guid": "180c3640-e056-43fd-96a1-ff6055c1539a",
    "_uuid": "24a09d91c6290ae2ba3dbc22a33cc05c0841359a"
   },
   "source": [
    "There is already a lot to notice from a such simple step.\n",
    "\n",
    "Our label is `Survived`, an `object` (status text), as we are indeed facing a classification issue.\n",
    "\n",
    "The data is relatively thin, there are only 10 features (provided we consider the `PassengerId` as a unique identifier and not a feature as such:\n",
    "* Features `Name`, `Sex`, `Ticket`, `Cabin` and `Embarked` (5 out of 10) are texts or categorical.\n",
    "* Features `Pclass`, `SibSp`, `Parch` (3 out of 10) are integers or ordinal.\n",
    "* Features `Age` and `Fare` only are continuous real numbers."
   ]
  },
  {
   "cell_type": "markdown",
   "metadata": {
    "_cell_guid": "b1fcee15-dfb3-4506-b2be-a67b7dd82483",
    "_uuid": "f9982f1574d49a9ca610103e0289f72ed118ebce"
   },
   "source": [
    "# 2.The label to predict: Survival\n",
    "Sadly, what we seek here is to make a prediction on wheter a given passenger has survived the sinking of the RMS Titanic or not.\n",
    "Let's have a look at the distinct values that can take our prediction label `Survived."
   ]
  },
  {
   "cell_type": "code",
   "execution_count": 6,
   "metadata": {
    "_cell_guid": "eecec481-b9cf-4246-9475-bfa54db273ac",
    "_uuid": "3c6965b700d40648303d2aa2903d482850d34a17",
    "scrolled": false
   },
   "outputs": [
    {
     "name": "stdout",
     "output_type": "stream",
     "text": [
      "Distinct values taken by Survival: [0 1]\n"
     ]
    }
   ],
   "source": [
    "print(\"Distinct values taken by Survival:\", data_train['Survived'].unique())"
   ]
  },
  {
   "cell_type": "markdown",
   "metadata": {
    "_cell_guid": "865e9c35-4c3f-4722-af18-2c33ca4c2d92",
    "_uuid": "34b96731ca776657159598f9b35e5aef7064e22a"
   },
   "source": [
    "We are therefore to simply predict only one level: `1` if the passenger survived the tragedy, `0` if sadly he didn't. Let's have a look at the total number of labeled observations we have in our train set and how many people survived."
   ]
  },
  {
   "cell_type": "code",
   "execution_count": 7,
   "metadata": {
    "_cell_guid": "9516746f-bd9f-4c36-9f62-51347715bd1f",
    "_uuid": "c0abdae1dcca98d5bfbaf52b791bcea9a366e2ee"
   },
   "outputs": [
    {
     "name": "stdout",
     "output_type": "stream",
     "text": [
      "Number of passengers: 891\n",
      "Number of survivors: 342\n",
      "Chances of survival (baseline): 0.383838383838\n"
     ]
    },
    {
     "data": {
      "image/png": "[encoded data removed]",
      "text/plain": [
       "<matplotlib.figure.Figure at 0x379dc88>"
      ]
     },
     "metadata": {},
     "output_type": "display_data"
    }
   ],
   "source": [
    "print(\"Number of passengers:\", data_train['Survived'].count())\n",
    "print(\"Number of survivors:\", data_train['Survived'].sum())\n",
    "\n",
    "print(\"Chances of survival (baseline):\",\n",
    "      data_train['Survived'].sum() / data_train['Survived'].count())\n",
    "\n",
    "sns.countplot(x='Survived', data=data_train);"
   ]
  },
  {
   "cell_type": "markdown",
   "metadata": {
    "_cell_guid": "217089b6-670a-498f-91ab-526f0574a246",
    "_uuid": "5362fd04f2fee8e45d7bde67caafa325bfbde4bc"
   },
   "source": [
    "342 out of 891 survived the sinking of RMS Titanic (38.38% of the passengers).\n",
    "Note that:\n",
    "1. Classes are somehow imbalanced and;\n",
    "2. We can devise a simple and stupid base predictor, that is of a 38,38% chances to survive the tragedy."
   ]
  },
  {
   "cell_type": "markdown",
   "metadata": {
    "_cell_guid": "c899fb6e-6709-4612-9065-094aaa6fd772",
    "_uuid": "36b57b778cb6c05c1a5ebb2dc839afd2b3eea96e"
   },
   "source": [
    "Before moving to the features, let's stick to a good practice that is to separate the label to predict (`y`) from the features used to predict the label (`X`)."
   ]
  },
  {
   "cell_type": "code",
   "execution_count": 8,
   "metadata": {
    "_cell_guid": "3cdcec48-93db-4326-be1c-62fb9ad18683",
    "_uuid": "0948ec066dcc53cb2e7f5f6ce0f7b8b9f8b6d95e",
    "scrolled": true
   },
   "outputs": [
    {
     "data": {
      "text/html": [
       "<div>\n",
       "<style scoped>\n",
       "    .dataframe tbody tr th:only-of-type {\n",
       "        vertical-align: middle;\n",
       "    }\n",
       "\n",
       "    .dataframe tbody tr th {\n",
       "        vertical-align: top;\n",
       "    }\n",
       "\n",
       "    .dataframe thead th {\n",
       "        text-align: right;\n",
       "    }\n",
       "</style>\n",
       "<table border=\"1\" class=\"dataframe\">\n",
       "  <thead>\n",
       "    <tr style=\"text-align: right;\">\n",
       "      <th></th>\n",
       "      <th>Survived</th>\n",
       "    </tr>\n",
       "    <tr>\n",
       "      <th>PassengerId</th>\n",
       "      <th></th>\n",
       "    </tr>\n",
       "  </thead>\n",
       "  <tbody>\n",
       "    <tr>\n",
       "      <th>1</th>\n",
       "      <td>0</td>\n",
       "    </tr>\n",
       "    <tr>\n",
       "      <th>2</th>\n",
       "      <td>1</td>\n",
       "    </tr>\n",
       "    <tr>\n",
       "      <th>3</th>\n",
       "      <td>1</td>\n",
       "    </tr>\n",
       "    <tr>\n",
       "      <th>4</th>\n",
       "      <td>1</td>\n",
       "    </tr>\n",
       "    <tr>\n",
       "      <th>5</th>\n",
       "      <td>0</td>\n",
       "    </tr>\n",
       "  </tbody>\n",
       "</table>\n",
       "</div>"
      ],
      "text/plain": [
       "             Survived\n",
       "PassengerId          \n",
       "1                   0\n",
       "2                   1\n",
       "3                   1\n",
       "4                   1\n",
       "5                   0"
      ]
     },
     "execution_count": 8,
     "metadata": {},
     "output_type": "execute_result"
    }
   ],
   "source": [
    "X_train = data_train.drop('Survived', axis=1)\n",
    "y_train = data_train.get(['Survived'])\n",
    "\n",
    "y_train.head(5)"
   ]
  },
  {
   "cell_type": "markdown",
   "metadata": {
    "_cell_guid": "f6379fc0-d4e1-4853-a0cf-856a0820ebb0",
    "_uuid": "d1e61c6221325119fcd4144a04bb12a78a0f6569"
   },
   "source": [
    "# 3.Exploring the features\n",
    "Now that we have a clear view of our prediction label, we can look at the features. We can't resist here to have a glimpse at the dataset and compute some basic statistics, but as a precaution we'll refrain from making any interpretation at such an early stage."
   ]
  },
  {
   "cell_type": "code",
   "execution_count": 9,
   "metadata": {
    "_cell_guid": "2e210b2b-77d5-4e90-9187-40b48f499195",
    "_uuid": "75097d8f4f13b0a712385045145719bb8e55f60d",
    "scrolled": true
   },
   "outputs": [
    {
     "data": {
      "text/html": [
       "<div>\n",
       "<style scoped>\n",
       "    .dataframe tbody tr th:only-of-type {\n",
       "        vertical-align: middle;\n",
       "    }\n",
       "\n",
       "    .dataframe tbody tr th {\n",
       "        vertical-align: top;\n",
       "    }\n",
       "\n",
       "    .dataframe thead th {\n",
       "        text-align: right;\n",
       "    }\n",
       "</style>\n",
       "<table border=\"1\" class=\"dataframe\">\n",
       "  <thead>\n",
       "    <tr style=\"text-align: right;\">\n",
       "      <th></th>\n",
       "      <th>Survived</th>\n",
       "      <th>Pclass</th>\n",
       "      <th>Name</th>\n",
       "      <th>Sex</th>\n",
       "      <th>Age</th>\n",
       "      <th>SibSp</th>\n",
       "      <th>Parch</th>\n",
       "      <th>Ticket</th>\n",
       "      <th>Fare</th>\n",
       "      <th>Cabin</th>\n",
       "      <th>Embarked</th>\n",
       "    </tr>\n",
       "    <tr>\n",
       "      <th>PassengerId</th>\n",
       "      <th></th>\n",
       "      <th></th>\n",
       "      <th></th>\n",
       "      <th></th>\n",
       "      <th></th>\n",
       "      <th></th>\n",
       "      <th></th>\n",
       "      <th></th>\n",
       "      <th></th>\n",
       "      <th></th>\n",
       "      <th></th>\n",
       "    </tr>\n",
       "  </thead>\n",
       "  <tbody>\n",
       "    <tr>\n",
       "      <th>887</th>\n",
       "      <td>0</td>\n",
       "      <td>2</td>\n",
       "      <td>Montvila, Rev. Juozas</td>\n",
       "      <td>male</td>\n",
       "      <td>27.0</td>\n",
       "      <td>0</td>\n",
       "      <td>0</td>\n",
       "      <td>211536</td>\n",
       "      <td>13.00</td>\n",
       "      <td>NaN</td>\n",
       "      <td>S</td>\n",
       "    </tr>\n",
       "    <tr>\n",
       "      <th>888</th>\n",
       "      <td>1</td>\n",
       "      <td>1</td>\n",
       "      <td>Graham, Miss. Margaret Edith</td>\n",
       "      <td>female</td>\n",
       "      <td>19.0</td>\n",
       "      <td>0</td>\n",
       "      <td>0</td>\n",
       "      <td>112053</td>\n",
       "      <td>30.00</td>\n",
       "      <td>B42</td>\n",
       "      <td>S</td>\n",
       "    </tr>\n",
       "    <tr>\n",
       "      <th>889</th>\n",
       "      <td>0</td>\n",
       "      <td>3</td>\n",
       "      <td>Johnston, Miss. Catherine Helen \"Carrie\"</td>\n",
       "      <td>female</td>\n",
       "      <td>NaN</td>\n",
       "      <td>1</td>\n",
       "      <td>2</td>\n",
       "      <td>W./C. 6607</td>\n",
       "      <td>23.45</td>\n",
       "      <td>NaN</td>\n",
       "      <td>S</td>\n",
       "    </tr>\n",
       "    <tr>\n",
       "      <th>890</th>\n",
       "      <td>1</td>\n",
       "      <td>1</td>\n",
       "      <td>Behr, Mr. Karl Howell</td>\n",
       "      <td>male</td>\n",
       "      <td>26.0</td>\n",
       "      <td>0</td>\n",
       "      <td>0</td>\n",
       "      <td>111369</td>\n",
       "      <td>30.00</td>\n",
       "      <td>C148</td>\n",
       "      <td>C</td>\n",
       "    </tr>\n",
       "    <tr>\n",
       "      <th>891</th>\n",
       "      <td>0</td>\n",
       "      <td>3</td>\n",
       "      <td>Dooley, Mr. Patrick</td>\n",
       "      <td>male</td>\n",
       "      <td>32.0</td>\n",
       "      <td>0</td>\n",
       "      <td>0</td>\n",
       "      <td>370376</td>\n",
       "      <td>7.75</td>\n",
       "      <td>NaN</td>\n",
       "      <td>Q</td>\n",
       "    </tr>\n",
       "  </tbody>\n",
       "</table>\n",
       "</div>"
      ],
      "text/plain": [
       "             Survived  Pclass                                      Name  \\\n",
       "PassengerId                                                               \n",
       "887                 0       2                     Montvila, Rev. Juozas   \n",
       "888                 1       1              Graham, Miss. Margaret Edith   \n",
       "889                 0       3  Johnston, Miss. Catherine Helen \"Carrie\"   \n",
       "890                 1       1                     Behr, Mr. Karl Howell   \n",
       "891                 0       3                       Dooley, Mr. Patrick   \n",
       "\n",
       "                Sex   Age  SibSp  Parch      Ticket   Fare Cabin Embarked  \n",
       "PassengerId                                                                \n",
       "887            male  27.0      0      0      211536  13.00   NaN        S  \n",
       "888          female  19.0      0      0      112053  30.00   B42        S  \n",
       "889          female   NaN      1      2  W./C. 6607  23.45   NaN        S  \n",
       "890            male  26.0      0      0      111369  30.00  C148        C  \n",
       "891            male  32.0      0      0      370376   7.75   NaN        Q  "
      ]
     },
     "execution_count": 9,
     "metadata": {},
     "output_type": "execute_result"
    }
   ],
   "source": [
    "data_train.tail(5)"
   ]
  },
  {
   "cell_type": "code",
   "execution_count": 10,
   "metadata": {
    "_cell_guid": "6d71845d-050e-4485-a531-3acec399f292",
    "_uuid": "c32c624901a4fc2bad5729e26109d9bc53f7be77"
   },
   "outputs": [
    {
     "data": {
      "text/html": [
       "<div>\n",
       "<style scoped>\n",
       "    .dataframe tbody tr th:only-of-type {\n",
       "        vertical-align: middle;\n",
       "    }\n",
       "\n",
       "    .dataframe tbody tr th {\n",
       "        vertical-align: top;\n",
       "    }\n",
       "\n",
       "    .dataframe thead th {\n",
       "        text-align: right;\n",
       "    }\n",
       "</style>\n",
       "<table border=\"1\" class=\"dataframe\">\n",
       "  <thead>\n",
       "    <tr style=\"text-align: right;\">\n",
       "      <th></th>\n",
       "      <th>Survived</th>\n",
       "      <th>Pclass</th>\n",
       "      <th>Age</th>\n",
       "      <th>SibSp</th>\n",
       "      <th>Parch</th>\n",
       "      <th>Fare</th>\n",
       "    </tr>\n",
       "  </thead>\n",
       "  <tbody>\n",
       "    <tr>\n",
       "      <th>count</th>\n",
       "      <td>891.000000</td>\n",
       "      <td>891.000000</td>\n",
       "      <td>714.000000</td>\n",
       "      <td>891.000000</td>\n",
       "      <td>891.000000</td>\n",
       "      <td>891.000000</td>\n",
       "    </tr>\n",
       "    <tr>\n",
       "      <th>mean</th>\n",
       "      <td>0.383838</td>\n",
       "      <td>2.308642</td>\n",
       "      <td>29.699118</td>\n",
       "      <td>0.523008</td>\n",
       "      <td>0.381594</td>\n",
       "      <td>32.204208</td>\n",
       "    </tr>\n",
       "    <tr>\n",
       "      <th>std</th>\n",
       "      <td>0.486592</td>\n",
       "      <td>0.836071</td>\n",
       "      <td>14.526497</td>\n",
       "      <td>1.102743</td>\n",
       "      <td>0.806057</td>\n",
       "      <td>49.693429</td>\n",
       "    </tr>\n",
       "    <tr>\n",
       "      <th>min</th>\n",
       "      <td>0.000000</td>\n",
       "      <td>1.000000</td>\n",
       "      <td>0.420000</td>\n",
       "      <td>0.000000</td>\n",
       "      <td>0.000000</td>\n",
       "      <td>0.000000</td>\n",
       "    </tr>\n",
       "    <tr>\n",
       "      <th>25%</th>\n",
       "      <td>0.000000</td>\n",
       "      <td>2.000000</td>\n",
       "      <td>20.125000</td>\n",
       "      <td>0.000000</td>\n",
       "      <td>0.000000</td>\n",
       "      <td>7.910400</td>\n",
       "    </tr>\n",
       "    <tr>\n",
       "      <th>50%</th>\n",
       "      <td>0.000000</td>\n",
       "      <td>3.000000</td>\n",
       "      <td>28.000000</td>\n",
       "      <td>0.000000</td>\n",
       "      <td>0.000000</td>\n",
       "      <td>14.454200</td>\n",
       "    </tr>\n",
       "    <tr>\n",
       "      <th>75%</th>\n",
       "      <td>1.000000</td>\n",
       "      <td>3.000000</td>\n",
       "      <td>38.000000</td>\n",
       "      <td>1.000000</td>\n",
       "      <td>0.000000</td>\n",
       "      <td>31.000000</td>\n",
       "    </tr>\n",
       "    <tr>\n",
       "      <th>max</th>\n",
       "      <td>1.000000</td>\n",
       "      <td>3.000000</td>\n",
       "      <td>80.000000</td>\n",
       "      <td>8.000000</td>\n",
       "      <td>6.000000</td>\n",
       "      <td>512.329200</td>\n",
       "    </tr>\n",
       "  </tbody>\n",
       "</table>\n",
       "</div>"
      ],
      "text/plain": [
       "         Survived      Pclass         Age       SibSp       Parch        Fare\n",
       "count  891.000000  891.000000  714.000000  891.000000  891.000000  891.000000\n",
       "mean     0.383838    2.308642   29.699118    0.523008    0.381594   32.204208\n",
       "std      0.486592    0.836071   14.526497    1.102743    0.806057   49.693429\n",
       "min      0.000000    1.000000    0.420000    0.000000    0.000000    0.000000\n",
       "25%      0.000000    2.000000   20.125000    0.000000    0.000000    7.910400\n",
       "50%      0.000000    3.000000   28.000000    0.000000    0.000000   14.454200\n",
       "75%      1.000000    3.000000   38.000000    1.000000    0.000000   31.000000\n",
       "max      1.000000    3.000000   80.000000    8.000000    6.000000  512.329200"
      ]
     },
     "execution_count": 10,
     "metadata": {},
     "output_type": "execute_result"
    }
   ],
   "source": [
    "data_train.describe()"
   ]
  },
  {
   "cell_type": "markdown",
   "metadata": {
    "_cell_guid": "56d2b4f3-7ab3-4c0f-86a3-dfe5d3dc442a",
    "_uuid": "1c2ad184c634ad696942882edff95fa79c1599c2"
   },
   "source": [
    "## Data gaps\n",
    "To begin with, let's look if we are missing data for some observations."
   ]
  },
  {
   "cell_type": "code",
   "execution_count": 11,
   "metadata": {
    "_cell_guid": "e9de226e-90a3-481c-88c8-85d85a782d7e",
    "_uuid": "23cfd627dd93ceb15ed1a0426e292408379db128"
   },
   "outputs": [
    {
     "data": {
      "text/plain": [
       "Survived      0\n",
       "Pclass        0\n",
       "Name          0\n",
       "Sex           0\n",
       "Age         177\n",
       "SibSp         0\n",
       "Parch         0\n",
       "Ticket        0\n",
       "Fare          0\n",
       "Cabin       687\n",
       "Embarked      2\n",
       "dtype: int64"
      ]
     },
     "execution_count": 11,
     "metadata": {},
     "output_type": "execute_result"
    }
   ],
   "source": [
    "data_train['Survived'].count() - data_train.count()"
   ]
  },
  {
   "cell_type": "markdown",
   "metadata": {
    "_cell_guid": "6cd998df-2edb-4478-a1e0-d0aac31cb1fb",
    "_uuid": "c4ba59dbc80beafa8456906d38e9dcd6a8002630"
   },
   "source": [
    "We are missing info on some observations and will therefore have to devise a strategy to fill in those data gaps.\n",
    "* A great number of `Cabin` data are missing. We have been told and saw from the data that this feature presents the cabin number(s) a given passenger has booked. Therefore, the absence of information here is likely to bear information in itself, reflecting the fact that a passenger does not travel in her/his own cabin. This information can be captured in a separate feature.\n",
    "* There are 2 missing values for `Embarked`, possible stowaways or crew members? These can be filled-in with the most represented value, that is also the most probable.\n",
    "* The `Age` is missing for a great number of passengers: this is obviously an issue. In the absence of other strategy, we can fill-in data gaps with medians."
   ]
  },
  {
   "cell_type": "markdown",
   "metadata": {
    "_cell_guid": "b4f23d43-849e-4099-9907-3166438dd3cd",
    "_uuid": "9101f66fdbe3b9962ad3f79f64e122901838ff72"
   },
   "source": [
    "## Categorical and ordinal features\n",
    "Let's have a look at the values taken by categorical and ordinal features."
   ]
  },
  {
   "cell_type": "code",
   "execution_count": 12,
   "metadata": {
    "_cell_guid": "fec24bde-4ef3-46b2-b67c-641d43453352",
    "_uuid": "32cedafd941c9cc21927695c0639c3daa20b3894"
   },
   "outputs": [
    {
     "name": "stdout",
     "output_type": "stream",
     "text": [
      "Values taken by Pclass: [1, 2, 3]\n",
      "Values taken by Sex: ['female', 'male']\n",
      "Values taken by SibSp: [0, 1, 2, 3, 4, 5, 8]\n",
      "Values taken by Parch: [0, 1, 2, 3, 4, 5, 6]\n",
      "Values taken by Embarked: ['S' 'C' 'Q' nan]\n"
     ]
    }
   ],
   "source": [
    "print(\"Values taken by Pclass:\", sorted(data_train['Pclass'].unique()))\n",
    "print(\"Values taken by Sex:\", sorted(data_train['Sex'].unique()))\n",
    "print(\"Values taken by SibSp:\", sorted(data_train['SibSp'].unique()))\n",
    "print(\"Values taken by Parch:\", sorted(data_train['Parch'].unique()))\n",
    "print(\"Values taken by Embarked:\", data_train['Embarked'].unique())"
   ]
  },
  {
   "cell_type": "markdown",
   "metadata": {
    "_cell_guid": "ac122548-a92a-4e85-b6d9-cf402ce7ea72",
    "_uuid": "1d446a7fb939c4cff0a6025eee52d31f4ff758c9"
   },
   "source": [
    "Let's check how these classes are balanced."
   ]
  },
  {
   "cell_type": "code",
   "execution_count": 13,
   "metadata": {
    "_cell_guid": "a363ed43-496e-43ba-80a2-5ec9126aff39",
    "_uuid": "7698479412c2a8c119adac6a41b5bd1bc5d025d6"
   },
   "outputs": [
    {
     "data": {
      "image/png": "[encoded data removed]",
      "text/plain": [
       "<matplotlib.figure.Figure at 0x8e62f98>"
      ]
     },
     "metadata": {},
     "output_type": "display_data"
    }
   ],
   "source": [
    "sns.set_palette('Dark2') # A matplotlib colormap relevant for categorical values\n",
    "\n",
    "fig1, ((ax1, ax2),(ax3, ax4)) = plt.subplots(2, 2, figsize=(12,10))\n",
    "sns.countplot(x='Pclass', data=data_train, ax=ax1)\n",
    "sns.countplot(x='Sex', data=data_train, ax=ax2)\n",
    "sns.countplot(x='SibSp', data=data_train, ax=ax3)\n",
    "sns.countplot(x='Parch', data=data_train, ax=ax4);"
   ]
  },
  {
   "cell_type": "markdown",
   "metadata": {
    "_cell_guid": "ea8c315c-bc32-4f84-9d7c-bd16cc396ef7",
    "_uuid": "7363202f254b866b7a2197d1f4d085a90809c9c7"
   },
   "source": [
    "Again, there would be a lot to say here from these simple counts.\n",
    "* First of all, these classes are heavily imbalanced.\n",
    "* The vast majority of passengers (more than the half of the population actually) were traveling in 3rd class, the other passengers are almost equally split between 2nd and 1st classes.\n",
    "* There were almost twice as many men as women travelling on the titanic.\n",
    "* It seems also that a great number of passengers were traveling alone.\n",
    "\n",
    "So, the typical RMS Titanic passenger is a single man traveling alone in 3rd class, probably seeking new horizons to relocate on the other side of the ocean. What follows also supports this assumption."
   ]
  },
  {
   "cell_type": "code",
   "execution_count": 14,
   "metadata": {
    "_cell_guid": "d88d7b5f-861c-4936-b7b3-c525a24649c5",
    "_uuid": "c089d79a298595c3873bfca23c814cbcd14c06a8"
   },
   "outputs": [
    {
     "data": {
      "image/png": "[encoded data removed]",
      "text/plain": [
       "<matplotlib.figure.Figure at 0x8c07b00>"
      ]
     },
     "metadata": {},
     "output_type": "display_data"
    }
   ],
   "source": [
    "sns.countplot(x=\"Pclass\", hue=\"Sex\", data=data_train);"
   ]
  },
  {
   "cell_type": "markdown",
   "metadata": {
    "_cell_guid": "30420218-08e6-4afd-acec-d0ffa267af49",
    "_uuid": "988f133130c2ff65c1ad43db503d18b0d4e1fb74"
   },
   "source": [
    "But these men traveling in 3rd class were not too fortunate... More generally, men were less likely to survive this tragedy also in 2nd and 1st class, even if the higher the class, the higher the chances to survive.\n",
    "\n",
    "Women in first and second class mostly survived the sinking of the Titanic, whereas odds were only of 50% for women traveling in 3rd class."
   ]
  },
  {
   "cell_type": "code",
   "execution_count": 15,
   "metadata": {
    "_cell_guid": "71bec3bc-5d0a-4286-bebe-b1ad558e96b2",
    "_uuid": "8e8c0905bacc948dc747741b5d68a365f36dcaf2"
   },
   "outputs": [
    {
     "data": {
      "image/png": "[encoded data removed]",
      "text/plain": [
       "<matplotlib.figure.Figure at 0x8d6e550>"
      ]
     },
     "metadata": {},
     "output_type": "display_data"
    }
   ],
   "source": [
    "sns.factorplot(x='Pclass', hue='Survived', col='Sex', data=data_train, kind='count');"
   ]
  },
  {
   "cell_type": "code",
   "execution_count": 16,
   "metadata": {
    "_cell_guid": "36857fed-1af1-4e5f-8c5d-b7cb323961dd",
    "_uuid": "7755ca1c9c9d6f1fdb9451479448a6b6c877ed96"
   },
   "outputs": [
    {
     "data": {
      "image/png": "[encoded data removed]",
      "text/plain": [
       "<matplotlib.figure.Figure at 0xbd0de48>"
      ]
     },
     "metadata": {},
     "output_type": "display_data"
    }
   ],
   "source": [
    "sns.pointplot(x='Pclass', y='Survived', hue='Sex', data=data_train);"
   ]
  },
  {
   "cell_type": "markdown",
   "metadata": {
    "_cell_guid": "a6b1d469-ce59-4d8f-8856-05f426727a5b",
    "_uuid": "ec53736080b25f80e386d8bfe67bbed6c863538f"
   },
   "source": [
    "If we look at each of these categorical variable independently, we observe the following."
   ]
  },
  {
   "cell_type": "code",
   "execution_count": 17,
   "metadata": {
    "_cell_guid": "8d9f84b2-bc25-431e-b1f3-0974b79cdb9f",
    "_uuid": "75afb52fdd4dbd1095fc54f2239d1fb39836bece"
   },
   "outputs": [
    {
     "data": {
      "image/png": "[encoded data removed]",
      "text/plain": [
       "<matplotlib.figure.Figure at 0xbddf6d8>"
      ]
     },
     "metadata": {},
     "output_type": "display_data"
    }
   ],
   "source": [
    "g = sns.PairGrid(data=data_train,\n",
    "                 y_vars=\"Survived\",\n",
    "                 x_vars=[\"Pclass\", \"Sex\", \"SibSp\", \"Parch\"])\n",
    "g.map(sns.pointplot);"
   ]
  },
  {
   "cell_type": "markdown",
   "metadata": {
    "_cell_guid": "d4a68811-6e5e-476d-a63d-78a37ac99422",
    "_uuid": "67615f2deff9f4b44c0deb0c94929ea7c20b8785"
   },
   "source": [
    "`Pclass` and `Sex` factors seem to be good predictors of the survival as such. In addition, there is an interaction between the two as seen on the factorplot above.\n",
    "\n",
    "`SibSp` and `Parch` factors show something different: level `0` seems to exhibit a different behaviour as if there were a confusion with another effect. We can propose the following hypothesis for later data enrichment.\n",
    "* 0 means that a traveler has no relatives onboard the ship. These people apparently tended to behave differently from people traveling with relatives, which was not necessarily supporting their best interests.\n",
    "* non-0 values means that people traveled with relatives. These people tended to behave differently from lonely travelers which marks a possible group behaviour. It seems like the bigger the family group is, the lesser the odds of survival are. Smaller families groups of (2 to 3 people) tends to have better survival chances than the average, whereas bigger groups (more than 3 people) tends to on the contrary have lower chances of survival."
   ]
  },
  {
   "cell_type": "markdown",
   "metadata": {
    "_cell_guid": "0a4bf443-d438-430a-b80b-dde19bac3be6",
    "_uuid": "099290a15d13da1538faf42668dd94d24cf34015"
   },
   "source": [
    "Let's conclude this categorical features exploration with `Embarked`. There are 3 possible values, respectively `S` (for Southampton, England), `C` (for Cherbourg, Normandy) and `Q` (for Queenstown now Cobh, Ireland). There are also 2 missing values."
   ]
  },
  {
   "cell_type": "code",
   "execution_count": 18,
   "metadata": {
    "_cell_guid": "5a3a42c2-fdcc-4388-a319-f6efa089b22a",
    "_uuid": "975bc8e08c4100025196b282b15c5ddfd83aa534"
   },
   "outputs": [
    {
     "data": {
      "image/png": "[encoded data removed]",
      "text/plain": [
       "<matplotlib.figure.Figure at 0xc31ddd8>"
      ]
     },
     "metadata": {},
     "output_type": "display_data"
    },
    {
     "data": {
      "image/png": "[encoded data removed]",
      "text/plain": [
       "<matplotlib.figure.Figure at 0xc44a0f0>"
      ]
     },
     "metadata": {},
     "output_type": "display_data"
    }
   ],
   "source": [
    "sns.factorplot(x=\"Embarked\", hue=\"Survived\", col=\"Sex\", data=data_train, kind=\"count\");\n",
    "sns.factorplot(x=\"Embarked\", y=\"Survived\", col=\"Sex\", data=data_train, kind=\"bar\");"
   ]
  },
  {
   "cell_type": "code",
   "execution_count": 19,
   "metadata": {
    "_cell_guid": "c51282f3-bedc-4b47-a158-faab9e791c56",
    "_uuid": "d5a4f721422531959e34150e0bfc46ff3f898f72"
   },
   "outputs": [
    {
     "data": {
      "image/png": "[encoded data removed]",
      "text/plain": [
       "<matplotlib.figure.Figure at 0xc04db70>"
      ]
     },
     "metadata": {},
     "output_type": "display_data"
    }
   ],
   "source": [
    "sns.pointplot(x='Embarked', y='Survived', hue='Sex', data=data_train);"
   ]
  },
  {
   "cell_type": "markdown",
   "metadata": {
    "_cell_guid": "edfb395d-135d-4710-8c56-64b2f94de1cd",
    "_uuid": "f641a76c244d2f90f0e04beda5e7912a3295e954"
   },
   "source": [
    "It seems that passengers embarked in Cherbourg had better chances of survival, we'll keep this feature.\n",
    "\n",
    "We remind that two passengers do not have a value for `Embarked`. Given the fact that most of the passengers embarked in Southampton, we'll fill in these 2 gaps with `S`. "
   ]
  },
  {
   "cell_type": "code",
   "execution_count": 20,
   "metadata": {
    "_cell_guid": "3b37b845-d266-435f-b725-bbd72bdf21bd",
    "_uuid": "3deccd54aa424839eb676b46e587bcefe005aebb",
    "scrolled": true
   },
   "outputs": [
    {
     "data": {
      "text/html": [
       "<div>\n",
       "<style scoped>\n",
       "    .dataframe tbody tr th:only-of-type {\n",
       "        vertical-align: middle;\n",
       "    }\n",
       "\n",
       "    .dataframe tbody tr th {\n",
       "        vertical-align: top;\n",
       "    }\n",
       "\n",
       "    .dataframe thead th {\n",
       "        text-align: right;\n",
       "    }\n",
       "</style>\n",
       "<table border=\"1\" class=\"dataframe\">\n",
       "  <thead>\n",
       "    <tr style=\"text-align: right;\">\n",
       "      <th></th>\n",
       "      <th>Survived</th>\n",
       "      <th>Pclass</th>\n",
       "      <th>Name</th>\n",
       "      <th>Sex</th>\n",
       "      <th>Age</th>\n",
       "      <th>SibSp</th>\n",
       "      <th>Parch</th>\n",
       "      <th>Ticket</th>\n",
       "      <th>Fare</th>\n",
       "      <th>Cabin</th>\n",
       "    </tr>\n",
       "    <tr>\n",
       "      <th>PassengerId</th>\n",
       "      <th></th>\n",
       "      <th></th>\n",
       "      <th></th>\n",
       "      <th></th>\n",
       "      <th></th>\n",
       "      <th></th>\n",
       "      <th></th>\n",
       "      <th></th>\n",
       "      <th></th>\n",
       "      <th></th>\n",
       "    </tr>\n",
       "  </thead>\n",
       "  <tbody>\n",
       "    <tr>\n",
       "      <th>62</th>\n",
       "      <td>1</td>\n",
       "      <td>1</td>\n",
       "      <td>Icard, Miss. Amelie</td>\n",
       "      <td>female</td>\n",
       "      <td>38.0</td>\n",
       "      <td>0</td>\n",
       "      <td>0</td>\n",
       "      <td>113572</td>\n",
       "      <td>80.0</td>\n",
       "      <td>B28</td>\n",
       "    </tr>\n",
       "    <tr>\n",
       "      <th>830</th>\n",
       "      <td>1</td>\n",
       "      <td>1</td>\n",
       "      <td>Stone, Mrs. George Nelson (Martha Evelyn)</td>\n",
       "      <td>female</td>\n",
       "      <td>62.0</td>\n",
       "      <td>0</td>\n",
       "      <td>0</td>\n",
       "      <td>113572</td>\n",
       "      <td>80.0</td>\n",
       "      <td>B28</td>\n",
       "    </tr>\n",
       "  </tbody>\n",
       "</table>\n",
       "</div>"
      ],
      "text/plain": [
       "             Survived  Pclass                                       Name  \\\n",
       "PassengerId                                                                \n",
       "62                  1       1                        Icard, Miss. Amelie   \n",
       "830                 1       1  Stone, Mrs. George Nelson (Martha Evelyn)   \n",
       "\n",
       "                Sex   Age  SibSp  Parch  Ticket  Fare Cabin  \n",
       "PassengerId                                                  \n",
       "62           female  38.0      0      0  113572  80.0   B28  \n",
       "830          female  62.0      0      0  113572  80.0   B28  "
      ]
     },
     "execution_count": 20,
     "metadata": {},
     "output_type": "execute_result"
    }
   ],
   "source": [
    "data_train[data_train['Embarked'].isnull()].drop('Embarked', axis=1)"
   ]
  },
  {
   "cell_type": "markdown",
   "metadata": {
    "_cell_guid": "a5a8b8b1-64fb-4b1a-8f59-1056d7aa464f",
    "_uuid": "84bc18b5ef586c59233ae0c863787d7a700eef22"
   },
   "source": [
    "Enough with the categorical variables so far, we'll get back to them later. So far, we can sum up our insight.\n",
    "<div class=\"alert alert-success\">\n",
    "<b>Exploration of base categorical features</b><br><br>\n",
    "Among the categorical variables we just explored, we'll keep in mind for future reference that:<br>\n",
    "<ul><li><b>`Pclass`</b> should definitely be retained as a feature for our predictor, as it appears obviously connected to the chances of survival.</li>\n",
    "<li><b>`Sex`</b> should be retained as well.</li>\n",
    "<li><b>`SipSp`</b> may also be a good predictor, although it probably requires feature engineering. We can for instance think about deriving a categorical variable (0 vs. non-0).</li>\n",
    "<li><b>`Parch`</b> might appear redundant with `SibSp`.</li>\n",
    "<li><b>`Embarked`</b> also provides information on chances of survival, we should keep it as well. Missing values will be replaced by the most frequent value, `S`.</li></ul>\n",
    "</div>"
   ]
  },
  {
   "cell_type": "markdown",
   "metadata": {
    "_cell_guid": "3f3426a7-a4e2-4c08-86ce-f07f4f07d767",
    "_uuid": "c0fd4af789c4fcf6ab0c269306c364a7a2f1cb96",
    "collapsed": true
   },
   "source": [
    "## Continuous features\n",
    "We'll address continuous features now. Basically, continuous features are:\n",
    "* `Age`: age of the passengers, note that some ages are missing.\n",
    "* `Fare`: price paid by the passenger.\n",
    "\n",
    "At first, let's have a look at basic statistics and the distributions of our 2 features."
   ]
  },
  {
   "cell_type": "code",
   "execution_count": 21,
   "metadata": {
    "_cell_guid": "650dfe09-86cb-480d-b98a-084ad7ef2379",
    "_uuid": "05bd14c457eada7b2945919e30984bd2811ddb92"
   },
   "outputs": [
    {
     "data": {
      "text/html": [
       "<div>\n",
       "<style scoped>\n",
       "    .dataframe tbody tr th:only-of-type {\n",
       "        vertical-align: middle;\n",
       "    }\n",
       "\n",
       "    .dataframe tbody tr th {\n",
       "        vertical-align: top;\n",
       "    }\n",
       "\n",
       "    .dataframe thead th {\n",
       "        text-align: right;\n",
       "    }\n",
       "</style>\n",
       "<table border=\"1\" class=\"dataframe\">\n",
       "  <thead>\n",
       "    <tr style=\"text-align: right;\">\n",
       "      <th></th>\n",
       "      <th>Age</th>\n",
       "      <th>Fare</th>\n",
       "    </tr>\n",
       "  </thead>\n",
       "  <tbody>\n",
       "    <tr>\n",
       "      <th>count</th>\n",
       "      <td>714.000000</td>\n",
       "      <td>891.000000</td>\n",
       "    </tr>\n",
       "    <tr>\n",
       "      <th>mean</th>\n",
       "      <td>29.699118</td>\n",
       "      <td>32.204208</td>\n",
       "    </tr>\n",
       "    <tr>\n",
       "      <th>std</th>\n",
       "      <td>14.526497</td>\n",
       "      <td>49.693429</td>\n",
       "    </tr>\n",
       "    <tr>\n",
       "      <th>min</th>\n",
       "      <td>0.420000</td>\n",
       "      <td>0.000000</td>\n",
       "    </tr>\n",
       "    <tr>\n",
       "      <th>25%</th>\n",
       "      <td>20.125000</td>\n",
       "      <td>7.910400</td>\n",
       "    </tr>\n",
       "    <tr>\n",
       "      <th>50%</th>\n",
       "      <td>28.000000</td>\n",
       "      <td>14.454200</td>\n",
       "    </tr>\n",
       "    <tr>\n",
       "      <th>75%</th>\n",
       "      <td>38.000000</td>\n",
       "      <td>31.000000</td>\n",
       "    </tr>\n",
       "    <tr>\n",
       "      <th>max</th>\n",
       "      <td>80.000000</td>\n",
       "      <td>512.329200</td>\n",
       "    </tr>\n",
       "  </tbody>\n",
       "</table>\n",
       "</div>"
      ],
      "text/plain": [
       "              Age        Fare\n",
       "count  714.000000  891.000000\n",
       "mean    29.699118   32.204208\n",
       "std     14.526497   49.693429\n",
       "min      0.420000    0.000000\n",
       "25%     20.125000    7.910400\n",
       "50%     28.000000   14.454200\n",
       "75%     38.000000   31.000000\n",
       "max     80.000000  512.329200"
      ]
     },
     "execution_count": 21,
     "metadata": {},
     "output_type": "execute_result"
    }
   ],
   "source": [
    "data_train[['Age', 'Fare']].describe()"
   ]
  },
  {
   "cell_type": "code",
   "execution_count": 22,
   "metadata": {
    "_cell_guid": "aa4720e3-25e9-40c0-9d71-b4fe6fc3ac85",
    "_uuid": "af50bae1798f8cdfa184b39092b973367aa4749c"
   },
   "outputs": [
    {
     "data": {
      "image/png": "[encoded data removed]",
      "text/plain": [
       "<matplotlib.figure.Figure at 0xc6ee160>"
      ]
     },
     "metadata": {},
     "output_type": "display_data"
    }
   ],
   "source": [
    "sns.distplot(data_train['Age'].dropna());"
   ]
  },
  {
   "cell_type": "code",
   "execution_count": 23,
   "metadata": {
    "_cell_guid": "2276ed0c-0551-4eaa-822b-c3003f2e98d4",
    "_uuid": "b7c2a17dcdf26ba6101bc31a6a037522a7eefe1b"
   },
   "outputs": [
    {
     "data": {
      "image/png": "[encoded data removed]",
      "text/plain": [
       "<matplotlib.figure.Figure at 0xc8279b0>"
      ]
     },
     "metadata": {},
     "output_type": "display_data"
    }
   ],
   "source": [
    "sns.distplot(data_train['Fare']);"
   ]
  },
  {
   "cell_type": "markdown",
   "metadata": {
    "_cell_guid": "245df8f3-a783-4722-99b5-831cc761c210",
    "_uuid": "617f9e253a828c03f999c76d457568718e21416b"
   },
   "source": [
    "We notice that the distibution of `Fare` is far from following a normal distribution. We'll derive `logFare` the logarithm of `Fare`. We obtain a more useful distribution."
   ]
  },
  {
   "cell_type": "code",
   "execution_count": 24,
   "metadata": {
    "_cell_guid": "b766909d-91b1-449c-a6a0-fd1d70a93cf2",
    "_uuid": "01bc33ea30adad5292172a74e4a3df3904409076"
   },
   "outputs": [
    {
     "data": {
      "image/png": "[encoded data removed]",
      "text/plain": [
       "<matplotlib.figure.Figure at 0x8c076d8>"
      ]
     },
     "metadata": {},
     "output_type": "display_data"
    }
   ],
   "source": [
    "data_train['logFare'] = data_train['Fare'].apply(lambda x: np.log(x + 1))\n",
    "sns.distplot(data_train['logFare']);"
   ]
  },
  {
   "cell_type": "markdown",
   "metadata": {
    "_cell_guid": "1df757b2-9515-463d-aa8d-ff3202bc844f",
    "_uuid": "8c5d83b1b0484ac9bd5262f93888491fd1d5b1e0"
   },
   "source": [
    "In both cases, the distributions of `Age` and `logFare` have relatively heavy tails on the right.\n",
    "\n",
    "Let's see if they are somehow related."
   ]
  },
  {
   "cell_type": "code",
   "execution_count": 25,
   "metadata": {
    "_cell_guid": "01d579ee-fa84-465a-931b-a1fe376b5cae",
    "_uuid": "a84fa0952ea91fd1fc5b372fc565f3ddeb15f638"
   },
   "outputs": [
    {
     "data": {
      "image/png": "[encoded data removed]",
      "text/plain": [
       "<matplotlib.figure.Figure at 0xc7606a0>"
      ]
     },
     "metadata": {},
     "output_type": "display_data"
    }
   ],
   "source": [
    "sns.jointplot('Age', 'logFare', kind=\"kde\", size=7, space=0, data=data_train);"
   ]
  },
  {
   "cell_type": "markdown",
   "metadata": {
    "_cell_guid": "deaef8c6-f361-4fdd-b808-75dfd1e9d2ca",
    "_uuid": "510e85b8309b99b3f253ad1e165c3f90b73dff87"
   },
   "source": [
    "There is no obvious correlation between age and fare, although there are some groups."
   ]
  },
  {
   "cell_type": "code",
   "execution_count": 26,
   "metadata": {
    "_cell_guid": "e40c8ade-13ba-444b-9d7d-898adc19bf24",
    "_uuid": "d27a8a964b113edb422a9242f52d95cbb92ed7c6",
    "scrolled": false
   },
   "outputs": [
    {
     "data": {
      "image/png": "[encoded data removed]",
      "text/plain": [
       "<matplotlib.figure.Figure at 0xd915278>"
      ]
     },
     "metadata": {},
     "output_type": "display_data"
    }
   ],
   "source": [
    "g = sns.FacetGrid(data_train, hue='Survived', size=6)\n",
    "g.map(plt.scatter, 'Age', 'logFare', s=20, alpha=.7, linewidth=.5, edgecolor=\"white\")\n",
    "g.add_legend();"
   ]
  },
  {
   "cell_type": "markdown",
   "metadata": {
    "_cell_guid": "211c49d9-4f35-4af2-9c66-91b45f806a3a",
    "_uuid": "c362a0e794c0adaa4ae7f19b726a16f8385c0333"
   },
   "source": [
    "There is no clear pattern, also it seems like passengers paying more seems to have better chances of survival. Passenger travelling for free (crew members ?) weren't very lucky: it might worth deriving a feature on this condition.\n",
    "\n",
    "Another fact that worth, being noted: traveling was more expensive for young passengers (especially below 15). This is another feature that we can derive, especially if we intend to use tree based algorithms."
   ]
  },
  {
   "cell_type": "code",
   "execution_count": 27,
   "metadata": {
    "_cell_guid": "6f3bdbd3-daaf-4e1d-b88b-697384ef2646",
    "_uuid": "4fedde8a84a4a18c011986ff55e6e8ae7fb773d3"
   },
   "outputs": [
    {
     "data": {
      "image/png": "[encoded data removed]",
      "text/plain": [
       "<matplotlib.figure.Figure at 0xd984cc0>"
      ]
     },
     "metadata": {},
     "output_type": "display_data"
    }
   ],
   "source": [
    "g = sns.lmplot(x='Age', y='logFare', hue='Pclass',\n",
    "               truncate=True, size=6, data=data_train[data_train.Fare != 0])"
   ]
  },
  {
   "cell_type": "markdown",
   "metadata": {
    "_cell_guid": "e010e76c-0660-45b3-b6dc-620816f3421b",
    "_uuid": "b565006dcdef288e78d76bdda309fe5e236f3f9f"
   },
   "source": [
    "From the graphs below, we also notice that:\n",
    "* Younger and older passengers had better chances of survival.\n",
    "* Passengers traveling for free had lower chances of survival."
   ]
  },
  {
   "cell_type": "code",
   "execution_count": 28,
   "metadata": {
    "_cell_guid": "2a076c13-2b23-4bc2-8fa6-c752940786c5",
    "_uuid": "b6e3604726d8136f29da1a4aec79cba711f42b9d"
   },
   "outputs": [
    {
     "data": {
      "image/png": "[encoded data removed]",
      "text/plain": [
       "<matplotlib.figure.Figure at 0xd97dba8>"
      ]
     },
     "metadata": {},
     "output_type": "display_data"
    }
   ],
   "source": [
    "g = sns.PairGrid(data_train,\n",
    "                 x_vars=['Survived'],\n",
    "                 y_vars=['Age', 'logFare'],\n",
    "                 size=5)\n",
    "g.map(sns.violinplot, palette='Dark2');"
   ]
  },
  {
   "cell_type": "markdown",
   "metadata": {
    "_cell_guid": "a6878255-436d-4e9f-919b-d4d51890ed5a",
    "_uuid": "c4965eaf58ef57bf5e4c9a94007d20f2058d65ab"
   },
   "source": [
    "Before concluding our overview of continuous features, we still have an issue to address: the great amount of missing data for `Age`."
   ]
  },
  {
   "cell_type": "code",
   "execution_count": 29,
   "metadata": {
    "_cell_guid": "e424e93d-5e0f-4361-b630-837424e6039c",
    "_uuid": "d0ff4f517ee7db11eace1731ca20282fb1b8b533"
   },
   "outputs": [
    {
     "data": {
      "text/html": [
       "<div>\n",
       "<style scoped>\n",
       "    .dataframe tbody tr th:only-of-type {\n",
       "        vertical-align: middle;\n",
       "    }\n",
       "\n",
       "    .dataframe tbody tr th {\n",
       "        vertical-align: top;\n",
       "    }\n",
       "\n",
       "    .dataframe thead th {\n",
       "        text-align: right;\n",
       "    }\n",
       "</style>\n",
       "<table border=\"1\" class=\"dataframe\">\n",
       "  <thead>\n",
       "    <tr style=\"text-align: right;\">\n",
       "      <th></th>\n",
       "      <th>Survived</th>\n",
       "      <th>Pclass</th>\n",
       "      <th>Name</th>\n",
       "      <th>Sex</th>\n",
       "      <th>SibSp</th>\n",
       "      <th>Parch</th>\n",
       "      <th>Ticket</th>\n",
       "      <th>Fare</th>\n",
       "      <th>Cabin</th>\n",
       "      <th>Embarked</th>\n",
       "    </tr>\n",
       "    <tr>\n",
       "      <th>PassengerId</th>\n",
       "      <th></th>\n",
       "      <th></th>\n",
       "      <th></th>\n",
       "      <th></th>\n",
       "      <th></th>\n",
       "      <th></th>\n",
       "      <th></th>\n",
       "      <th></th>\n",
       "      <th></th>\n",
       "      <th></th>\n",
       "    </tr>\n",
       "  </thead>\n",
       "  <tbody>\n",
       "    <tr>\n",
       "      <th>860</th>\n",
       "      <td>0</td>\n",
       "      <td>3</td>\n",
       "      <td>Razi, Mr. Raihed</td>\n",
       "      <td>male</td>\n",
       "      <td>0</td>\n",
       "      <td>0</td>\n",
       "      <td>2629</td>\n",
       "      <td>7.2292</td>\n",
       "      <td>NaN</td>\n",
       "      <td>C</td>\n",
       "    </tr>\n",
       "    <tr>\n",
       "      <th>864</th>\n",
       "      <td>0</td>\n",
       "      <td>3</td>\n",
       "      <td>Sage, Miss. Dorothy Edith \"Dolly\"</td>\n",
       "      <td>female</td>\n",
       "      <td>8</td>\n",
       "      <td>2</td>\n",
       "      <td>CA. 2343</td>\n",
       "      <td>69.5500</td>\n",
       "      <td>NaN</td>\n",
       "      <td>S</td>\n",
       "    </tr>\n",
       "    <tr>\n",
       "      <th>869</th>\n",
       "      <td>0</td>\n",
       "      <td>3</td>\n",
       "      <td>van Melkebeke, Mr. Philemon</td>\n",
       "      <td>male</td>\n",
       "      <td>0</td>\n",
       "      <td>0</td>\n",
       "      <td>345777</td>\n",
       "      <td>9.5000</td>\n",
       "      <td>NaN</td>\n",
       "      <td>S</td>\n",
       "    </tr>\n",
       "    <tr>\n",
       "      <th>879</th>\n",
       "      <td>0</td>\n",
       "      <td>3</td>\n",
       "      <td>Laleff, Mr. Kristo</td>\n",
       "      <td>male</td>\n",
       "      <td>0</td>\n",
       "      <td>0</td>\n",
       "      <td>349217</td>\n",
       "      <td>7.8958</td>\n",
       "      <td>NaN</td>\n",
       "      <td>S</td>\n",
       "    </tr>\n",
       "    <tr>\n",
       "      <th>889</th>\n",
       "      <td>0</td>\n",
       "      <td>3</td>\n",
       "      <td>Johnston, Miss. Catherine Helen \"Carrie\"</td>\n",
       "      <td>female</td>\n",
       "      <td>1</td>\n",
       "      <td>2</td>\n",
       "      <td>W./C. 6607</td>\n",
       "      <td>23.4500</td>\n",
       "      <td>NaN</td>\n",
       "      <td>S</td>\n",
       "    </tr>\n",
       "  </tbody>\n",
       "</table>\n",
       "</div>"
      ],
      "text/plain": [
       "             Survived  Pclass                                      Name  \\\n",
       "PassengerId                                                               \n",
       "860                 0       3                          Razi, Mr. Raihed   \n",
       "864                 0       3         Sage, Miss. Dorothy Edith \"Dolly\"   \n",
       "869                 0       3               van Melkebeke, Mr. Philemon   \n",
       "879                 0       3                        Laleff, Mr. Kristo   \n",
       "889                 0       3  Johnston, Miss. Catherine Helen \"Carrie\"   \n",
       "\n",
       "                Sex  SibSp  Parch      Ticket     Fare Cabin Embarked  \n",
       "PassengerId                                                            \n",
       "860            male      0      0        2629   7.2292   NaN        C  \n",
       "864          female      8      2    CA. 2343  69.5500   NaN        S  \n",
       "869            male      0      0      345777   9.5000   NaN        S  \n",
       "879            male      0      0      349217   7.8958   NaN        S  \n",
       "889          female      1      2  W./C. 6607  23.4500   NaN        S  "
      ]
     },
     "execution_count": 29,
     "metadata": {},
     "output_type": "execute_result"
    }
   ],
   "source": [
    "data_train[data_train['Age'].isnull()]\\\n",
    "    .drop('Age', axis=1)\\\n",
    "    .drop('logFare', axis=1)\\\n",
    "    .tail(5)"
   ]
  },
  {
   "cell_type": "markdown",
   "metadata": {
    "_cell_guid": "f3bd23c3-da04-4699-8de0-f95699c6a320",
    "_uuid": "5f9ea662df89ddbfe0bb39ce4f4a4227d8117f40"
   },
   "source": [
    "Filling missing values for `Age` is not that simple, we can think about several strategies:\n",
    "1. The simple one: replace missing values by the median. Why not the mean? Since we have seen that the distribution of `Age` is not normal and therefore, the mean is not a good estimator of the central value of the dataset: the median is usually a more reliable estimator in such cases. This is probably a simple and prudent approach in the first place.\n",
    "2. Taking the median of the sample of population to whom the passenger belong, based on one or more features (e.g. `Pclass`, `Sex`, `Embarked`,... of course not `Survived` as this is our prediction label. We should be careful, as pushing too far such a strategy could introduce bias in our predictions.\n",
    "3. Taking a random value, which is probably not a good option as it would bring unnecessary white noise and variance to our data.\n",
    "4. Simply dropping the data, which would lead us to drop a significant amount of lines and increase bias and variance of our prediction. This is for sure not advisable.\n",
    "\n",
    "We'll go for option 2 based upon `Sex` and `Pclass` for this attempt, as `Embarked` is too much imbalanced."
   ]
  },
  {
   "cell_type": "code",
   "execution_count": 30,
   "metadata": {
    "_cell_guid": "65199ff5-e835-43a9-8b99-19fd8a8cecf0",
    "_uuid": "7aa926367c738f9d569aff7c1b971c9a68708a70"
   },
   "outputs": [
    {
     "data": {
      "text/html": [
       "<div>\n",
       "<style scoped>\n",
       "    .dataframe tbody tr th:only-of-type {\n",
       "        vertical-align: middle;\n",
       "    }\n",
       "\n",
       "    .dataframe tbody tr th {\n",
       "        vertical-align: top;\n",
       "    }\n",
       "\n",
       "    .dataframe thead th {\n",
       "        text-align: right;\n",
       "    }\n",
       "</style>\n",
       "<table border=\"1\" class=\"dataframe\">\n",
       "  <thead>\n",
       "    <tr style=\"text-align: right;\">\n",
       "      <th></th>\n",
       "      <th></th>\n",
       "      <th>Age</th>\n",
       "    </tr>\n",
       "    <tr>\n",
       "      <th>Sex</th>\n",
       "      <th>Pclass</th>\n",
       "      <th></th>\n",
       "    </tr>\n",
       "  </thead>\n",
       "  <tbody>\n",
       "    <tr>\n",
       "      <th rowspan=\"3\" valign=\"top\">female</th>\n",
       "      <th>1</th>\n",
       "      <td>35.0</td>\n",
       "    </tr>\n",
       "    <tr>\n",
       "      <th>2</th>\n",
       "      <td>28.0</td>\n",
       "    </tr>\n",
       "    <tr>\n",
       "      <th>3</th>\n",
       "      <td>21.5</td>\n",
       "    </tr>\n",
       "    <tr>\n",
       "      <th rowspan=\"3\" valign=\"top\">male</th>\n",
       "      <th>1</th>\n",
       "      <td>40.0</td>\n",
       "    </tr>\n",
       "    <tr>\n",
       "      <th>2</th>\n",
       "      <td>30.0</td>\n",
       "    </tr>\n",
       "    <tr>\n",
       "      <th>3</th>\n",
       "      <td>25.0</td>\n",
       "    </tr>\n",
       "  </tbody>\n",
       "</table>\n",
       "</div>"
      ],
      "text/plain": [
       "                Age\n",
       "Sex    Pclass      \n",
       "female 1       35.0\n",
       "       2       28.0\n",
       "       3       21.5\n",
       "male   1       40.0\n",
       "       2       30.0\n",
       "       3       25.0"
      ]
     },
     "execution_count": 30,
     "metadata": {},
     "output_type": "execute_result"
    }
   ],
   "source": [
    "age_fill = data_train[['Sex', 'Pclass', 'Age']].groupby(['Sex', 'Pclass']).median()\n",
    "age_fill"
   ]
  },
  {
   "cell_type": "markdown",
   "metadata": {
    "_cell_guid": "9d40fb40-6c9c-428a-9a7f-315bc32ea3ee",
    "_uuid": "15b4dd0084785e22ae944b18c44fc8385bf471f6"
   },
   "source": [
    "Example of how to get these values at a later stage."
   ]
  },
  {
   "cell_type": "code",
   "execution_count": 31,
   "metadata": {
    "_cell_guid": "fd1b62f9-c200-4d3a-b0ce-f2e2882151e5",
    "_uuid": "b364e8ad55955b05b503c7ea1829d44087efb1ef"
   },
   "outputs": [
    {
     "data": {
      "text/plain": [
       "35.0"
      ]
     },
     "execution_count": 31,
     "metadata": {},
     "output_type": "execute_result"
    }
   ],
   "source": [
    "age_fill.get_value(('female',1),'Age')"
   ]
  },
  {
   "cell_type": "markdown",
   "metadata": {
    "_cell_guid": "a4246449-42f2-4d8b-b801-1c03b4076de0",
    "_uuid": "8eeb9b7a6cbcedf33327e7eba16519932edad428"
   },
   "source": [
    "We've finished our tour regarding continuous variables so far, we'll get back to them later.\n",
    "<div class=\"alert alert-success\">\n",
    "<b>Exploration of base continuous features</b><br><br>\n",
    "Among the continuous variables we just explored, we'll keep in mind for future reference that:<br>\n",
    "<ul><li><b>`Age`</b> should be retained as a predictor. Nevertheless, it might be relevant to derive a distinct categorical feature based upon the age to make a distinction between adults and children (e.g. below 15).</li>\n",
    "<li><b>`Fare`</b> is too far from a normal distribution, we derived `logFare` instead.</li>\n",
    "<li><b>`logFare`</b> will be kept as a potential predictor. We can also derive another feature to make a distinction between passengers traveling for free and others.</li>\n",
    "<li><b>Gaps in `Age`</b> will be filled in based upon the median of groups defined by `Sex` and `Pclass`.</li>\n",
    "</ul>\n",
    "</div>"
   ]
  },
  {
   "cell_type": "markdown",
   "metadata": {
    "_cell_guid": "4e605bb8-5ed7-4eed-a8d4-4611c5352833",
    "_uuid": "6de9c1b9b722c492abad367b646ac5296b282986"
   },
   "source": [
    "## Unstructured data\n",
    "The dataset also comes with poorly structured data under the form of more or less structured strings, `Name`, `Ticket` and `Cabin`. These data are unusable as such, but are likely to provide additional features if we are able to derive relevant data from them."
   ]
  },
  {
   "cell_type": "code",
   "execution_count": 32,
   "metadata": {
    "_cell_guid": "a3de1667-16a4-450d-827f-ad89d0692deb",
    "_uuid": "809890ece450ab149f3047fc880f35e3cc32b505"
   },
   "outputs": [
    {
     "data": {
      "text/html": [
       "<div>\n",
       "<style scoped>\n",
       "    .dataframe tbody tr th:only-of-type {\n",
       "        vertical-align: middle;\n",
       "    }\n",
       "\n",
       "    .dataframe tbody tr th {\n",
       "        vertical-align: top;\n",
       "    }\n",
       "\n",
       "    .dataframe thead th {\n",
       "        text-align: right;\n",
       "    }\n",
       "</style>\n",
       "<table border=\"1\" class=\"dataframe\">\n",
       "  <thead>\n",
       "    <tr style=\"text-align: right;\">\n",
       "      <th></th>\n",
       "      <th>Name</th>\n",
       "      <th>Ticket</th>\n",
       "      <th>Cabin</th>\n",
       "    </tr>\n",
       "    <tr>\n",
       "      <th>PassengerId</th>\n",
       "      <th></th>\n",
       "      <th></th>\n",
       "      <th></th>\n",
       "    </tr>\n",
       "  </thead>\n",
       "  <tbody>\n",
       "    <tr>\n",
       "      <th>1</th>\n",
       "      <td>Braund, Mr. Owen Harris</td>\n",
       "      <td>A/5 21171</td>\n",
       "      <td>NaN</td>\n",
       "    </tr>\n",
       "    <tr>\n",
       "      <th>2</th>\n",
       "      <td>Cumings, Mrs. John Bradley (Florence Briggs Th...</td>\n",
       "      <td>PC 17599</td>\n",
       "      <td>C85</td>\n",
       "    </tr>\n",
       "    <tr>\n",
       "      <th>3</th>\n",
       "      <td>Heikkinen, Miss. Laina</td>\n",
       "      <td>STON/O2. 3101282</td>\n",
       "      <td>NaN</td>\n",
       "    </tr>\n",
       "    <tr>\n",
       "      <th>4</th>\n",
       "      <td>Futrelle, Mrs. Jacques Heath (Lily May Peel)</td>\n",
       "      <td>113803</td>\n",
       "      <td>C123</td>\n",
       "    </tr>\n",
       "    <tr>\n",
       "      <th>5</th>\n",
       "      <td>Allen, Mr. William Henry</td>\n",
       "      <td>373450</td>\n",
       "      <td>NaN</td>\n",
       "    </tr>\n",
       "    <tr>\n",
       "      <th>6</th>\n",
       "      <td>Moran, Mr. James</td>\n",
       "      <td>330877</td>\n",
       "      <td>NaN</td>\n",
       "    </tr>\n",
       "    <tr>\n",
       "      <th>7</th>\n",
       "      <td>McCarthy, Mr. Timothy J</td>\n",
       "      <td>17463</td>\n",
       "      <td>E46</td>\n",
       "    </tr>\n",
       "    <tr>\n",
       "      <th>8</th>\n",
       "      <td>Palsson, Master. Gosta Leonard</td>\n",
       "      <td>349909</td>\n",
       "      <td>NaN</td>\n",
       "    </tr>\n",
       "    <tr>\n",
       "      <th>9</th>\n",
       "      <td>Johnson, Mrs. Oscar W (Elisabeth Vilhelmina Berg)</td>\n",
       "      <td>347742</td>\n",
       "      <td>NaN</td>\n",
       "    </tr>\n",
       "    <tr>\n",
       "      <th>10</th>\n",
       "      <td>Nasser, Mrs. Nicholas (Adele Achem)</td>\n",
       "      <td>237736</td>\n",
       "      <td>NaN</td>\n",
       "    </tr>\n",
       "    <tr>\n",
       "      <th>11</th>\n",
       "      <td>Sandstrom, Miss. Marguerite Rut</td>\n",
       "      <td>PP 9549</td>\n",
       "      <td>G6</td>\n",
       "    </tr>\n",
       "    <tr>\n",
       "      <th>12</th>\n",
       "      <td>Bonnell, Miss. Elizabeth</td>\n",
       "      <td>113783</td>\n",
       "      <td>C103</td>\n",
       "    </tr>\n",
       "    <tr>\n",
       "      <th>13</th>\n",
       "      <td>Saundercock, Mr. William Henry</td>\n",
       "      <td>A/5. 2151</td>\n",
       "      <td>NaN</td>\n",
       "    </tr>\n",
       "    <tr>\n",
       "      <th>14</th>\n",
       "      <td>Andersson, Mr. Anders Johan</td>\n",
       "      <td>347082</td>\n",
       "      <td>NaN</td>\n",
       "    </tr>\n",
       "    <tr>\n",
       "      <th>15</th>\n",
       "      <td>Vestrom, Miss. Hulda Amanda Adolfina</td>\n",
       "      <td>350406</td>\n",
       "      <td>NaN</td>\n",
       "    </tr>\n",
       "  </tbody>\n",
       "</table>\n",
       "</div>"
      ],
      "text/plain": [
       "                                                          Name  \\\n",
       "PassengerId                                                      \n",
       "1                                      Braund, Mr. Owen Harris   \n",
       "2            Cumings, Mrs. John Bradley (Florence Briggs Th...   \n",
       "3                                       Heikkinen, Miss. Laina   \n",
       "4                 Futrelle, Mrs. Jacques Heath (Lily May Peel)   \n",
       "5                                     Allen, Mr. William Henry   \n",
       "6                                             Moran, Mr. James   \n",
       "7                                      McCarthy, Mr. Timothy J   \n",
       "8                               Palsson, Master. Gosta Leonard   \n",
       "9            Johnson, Mrs. Oscar W (Elisabeth Vilhelmina Berg)   \n",
       "10                         Nasser, Mrs. Nicholas (Adele Achem)   \n",
       "11                             Sandstrom, Miss. Marguerite Rut   \n",
       "12                                    Bonnell, Miss. Elizabeth   \n",
       "13                              Saundercock, Mr. William Henry   \n",
       "14                                 Andersson, Mr. Anders Johan   \n",
       "15                        Vestrom, Miss. Hulda Amanda Adolfina   \n",
       "\n",
       "                       Ticket Cabin  \n",
       "PassengerId                          \n",
       "1                   A/5 21171   NaN  \n",
       "2                    PC 17599   C85  \n",
       "3            STON/O2. 3101282   NaN  \n",
       "4                      113803  C123  \n",
       "5                      373450   NaN  \n",
       "6                      330877   NaN  \n",
       "7                       17463   E46  \n",
       "8                      349909   NaN  \n",
       "9                      347742   NaN  \n",
       "10                     237736   NaN  \n",
       "11                    PP 9549    G6  \n",
       "12                     113783  C103  \n",
       "13                  A/5. 2151   NaN  \n",
       "14                     347082   NaN  \n",
       "15                     350406   NaN  "
      ]
     },
     "execution_count": 32,
     "metadata": {},
     "output_type": "execute_result"
    }
   ],
   "source": [
    "data_train[['Name','Ticket','Cabin']].head(15)"
   ]
  },
  {
   "cell_type": "markdown",
   "metadata": {
    "_cell_guid": "39ea792d-48ff-43cb-95e4-b38332dbb0d7",
    "_uuid": "fccaa399a02e1e245aa2e23c076b1025b7168ca1"
   },
   "source": [
    "### Ticket\n",
    "Ticket values are alphanumerical codes. Some ticket numbers are purely numerical where some others exhibit letters or special characters: there is no universal pattern.\n",
    "\n",
    "Strangely enough, the ticket number is not unique: some passengers seems to share the same ticket numbers. Still, the number of unique values remain too high to be treated conveniently as a categorical variable."
   ]
  },
  {
   "cell_type": "code",
   "execution_count": 33,
   "metadata": {
    "_cell_guid": "4d90375d-062e-4e58-93d1-46ad7f737c55",
    "_uuid": "6579c567579cc225029412595d5e195761e48de4"
   },
   "outputs": [
    {
     "data": {
      "text/plain": [
       "681"
      ]
     },
     "execution_count": 33,
     "metadata": {},
     "output_type": "execute_result"
    }
   ],
   "source": [
    "len(data_train['Ticket'].unique())"
   ]
  },
  {
   "cell_type": "code",
   "execution_count": 34,
   "metadata": {
    "_cell_guid": "3610f6c9-b8ca-4c38-afb4-39ab253a9e3c",
    "_uuid": "a1e6222c48fe5634a0daf831545842fccf99cd06"
   },
   "outputs": [
    {
     "data": {
      "text/plain": [
       "347082          7\n",
       "1601            7\n",
       "CA. 2343        7\n",
       "CA 2144         6\n",
       "3101295         6\n",
       "347088          6\n",
       "S.O.C. 14879    5\n",
       "382652          5\n",
       "LINE            4\n",
       "347077          4\n",
       "W./C. 6608      4\n",
       "PC 17757        4\n",
       "4133            4\n",
       "17421           4\n",
       "113760          4\n",
       "113781          4\n",
       "349909          4\n",
       "19950           4\n",
       "2666            4\n",
       "248727          3\n",
       "Name: Ticket, dtype: int64"
      ]
     },
     "execution_count": 34,
     "metadata": {},
     "output_type": "execute_result"
    }
   ],
   "source": [
    "data_train['Ticket'].value_counts().head(20)"
   ]
  },
  {
   "cell_type": "markdown",
   "metadata": {
    "_cell_guid": "6da2416e-56e0-4d19-b889-df5996881317",
    "_uuid": "3fb6ec4847f6773209bdec022addda07c679649a"
   },
   "source": [
    "The value `'LINE'` retain our attention. It may capture the crew members of the Titanic... unfortunately this is incomplete (4 people). Generally speaking, passengers sharing the same `Tickets` are of the same family, see the example above.\n",
    "\n",
    "We also notice that the number of members of a family is actually the result of `SibSp + Parch`. We'll have to create this feature as well."
   ]
  },
  {
   "cell_type": "code",
   "execution_count": 35,
   "metadata": {
    "_cell_guid": "d7b5a746-efcb-41dd-b1c1-b4100db7d9fd",
    "_uuid": "cd709d18fc7b9a112b63268e4a2d342b9a2ed703"
   },
   "outputs": [
    {
     "data": {
      "text/html": [
       "<div>\n",
       "<style scoped>\n",
       "    .dataframe tbody tr th:only-of-type {\n",
       "        vertical-align: middle;\n",
       "    }\n",
       "\n",
       "    .dataframe tbody tr th {\n",
       "        vertical-align: top;\n",
       "    }\n",
       "\n",
       "    .dataframe thead th {\n",
       "        text-align: right;\n",
       "    }\n",
       "</style>\n",
       "<table border=\"1\" class=\"dataframe\">\n",
       "  <thead>\n",
       "    <tr style=\"text-align: right;\">\n",
       "      <th></th>\n",
       "      <th>Survived</th>\n",
       "      <th>Pclass</th>\n",
       "      <th>Name</th>\n",
       "      <th>Sex</th>\n",
       "      <th>Age</th>\n",
       "      <th>SibSp</th>\n",
       "      <th>Parch</th>\n",
       "      <th>Ticket</th>\n",
       "      <th>Fare</th>\n",
       "      <th>Cabin</th>\n",
       "      <th>Embarked</th>\n",
       "    </tr>\n",
       "    <tr>\n",
       "      <th>PassengerId</th>\n",
       "      <th></th>\n",
       "      <th></th>\n",
       "      <th></th>\n",
       "      <th></th>\n",
       "      <th></th>\n",
       "      <th></th>\n",
       "      <th></th>\n",
       "      <th></th>\n",
       "      <th></th>\n",
       "      <th></th>\n",
       "      <th></th>\n",
       "    </tr>\n",
       "  </thead>\n",
       "  <tbody>\n",
       "    <tr>\n",
       "      <th>14</th>\n",
       "      <td>0</td>\n",
       "      <td>3</td>\n",
       "      <td>Andersson, Mr. Anders Johan</td>\n",
       "      <td>male</td>\n",
       "      <td>39.0</td>\n",
       "      <td>1</td>\n",
       "      <td>5</td>\n",
       "      <td>347082</td>\n",
       "      <td>31.275</td>\n",
       "      <td>NaN</td>\n",
       "      <td>S</td>\n",
       "    </tr>\n",
       "    <tr>\n",
       "      <th>120</th>\n",
       "      <td>0</td>\n",
       "      <td>3</td>\n",
       "      <td>Andersson, Miss. Ellis Anna Maria</td>\n",
       "      <td>female</td>\n",
       "      <td>2.0</td>\n",
       "      <td>4</td>\n",
       "      <td>2</td>\n",
       "      <td>347082</td>\n",
       "      <td>31.275</td>\n",
       "      <td>NaN</td>\n",
       "      <td>S</td>\n",
       "    </tr>\n",
       "    <tr>\n",
       "      <th>542</th>\n",
       "      <td>0</td>\n",
       "      <td>3</td>\n",
       "      <td>Andersson, Miss. Ingeborg Constanzia</td>\n",
       "      <td>female</td>\n",
       "      <td>9.0</td>\n",
       "      <td>4</td>\n",
       "      <td>2</td>\n",
       "      <td>347082</td>\n",
       "      <td>31.275</td>\n",
       "      <td>NaN</td>\n",
       "      <td>S</td>\n",
       "    </tr>\n",
       "    <tr>\n",
       "      <th>543</th>\n",
       "      <td>0</td>\n",
       "      <td>3</td>\n",
       "      <td>Andersson, Miss. Sigrid Elisabeth</td>\n",
       "      <td>female</td>\n",
       "      <td>11.0</td>\n",
       "      <td>4</td>\n",
       "      <td>2</td>\n",
       "      <td>347082</td>\n",
       "      <td>31.275</td>\n",
       "      <td>NaN</td>\n",
       "      <td>S</td>\n",
       "    </tr>\n",
       "    <tr>\n",
       "      <th>611</th>\n",
       "      <td>0</td>\n",
       "      <td>3</td>\n",
       "      <td>Andersson, Mrs. Anders Johan (Alfrida Konstant...</td>\n",
       "      <td>female</td>\n",
       "      <td>39.0</td>\n",
       "      <td>1</td>\n",
       "      <td>5</td>\n",
       "      <td>347082</td>\n",
       "      <td>31.275</td>\n",
       "      <td>NaN</td>\n",
       "      <td>S</td>\n",
       "    </tr>\n",
       "    <tr>\n",
       "      <th>814</th>\n",
       "      <td>0</td>\n",
       "      <td>3</td>\n",
       "      <td>Andersson, Miss. Ebba Iris Alfrida</td>\n",
       "      <td>female</td>\n",
       "      <td>6.0</td>\n",
       "      <td>4</td>\n",
       "      <td>2</td>\n",
       "      <td>347082</td>\n",
       "      <td>31.275</td>\n",
       "      <td>NaN</td>\n",
       "      <td>S</td>\n",
       "    </tr>\n",
       "    <tr>\n",
       "      <th>851</th>\n",
       "      <td>0</td>\n",
       "      <td>3</td>\n",
       "      <td>Andersson, Master. Sigvard Harald Elias</td>\n",
       "      <td>male</td>\n",
       "      <td>4.0</td>\n",
       "      <td>4</td>\n",
       "      <td>2</td>\n",
       "      <td>347082</td>\n",
       "      <td>31.275</td>\n",
       "      <td>NaN</td>\n",
       "      <td>S</td>\n",
       "    </tr>\n",
       "  </tbody>\n",
       "</table>\n",
       "</div>"
      ],
      "text/plain": [
       "             Survived  Pclass  \\\n",
       "PassengerId                     \n",
       "14                  0       3   \n",
       "120                 0       3   \n",
       "542                 0       3   \n",
       "543                 0       3   \n",
       "611                 0       3   \n",
       "814                 0       3   \n",
       "851                 0       3   \n",
       "\n",
       "                                                          Name     Sex   Age  \\\n",
       "PassengerId                                                                    \n",
       "14                                 Andersson, Mr. Anders Johan    male  39.0   \n",
       "120                          Andersson, Miss. Ellis Anna Maria  female   2.0   \n",
       "542                       Andersson, Miss. Ingeborg Constanzia  female   9.0   \n",
       "543                          Andersson, Miss. Sigrid Elisabeth  female  11.0   \n",
       "611          Andersson, Mrs. Anders Johan (Alfrida Konstant...  female  39.0   \n",
       "814                         Andersson, Miss. Ebba Iris Alfrida  female   6.0   \n",
       "851                    Andersson, Master. Sigvard Harald Elias    male   4.0   \n",
       "\n",
       "             SibSp  Parch  Ticket    Fare Cabin Embarked  \n",
       "PassengerId                                               \n",
       "14               1      5  347082  31.275   NaN        S  \n",
       "120              4      2  347082  31.275   NaN        S  \n",
       "542              4      2  347082  31.275   NaN        S  \n",
       "543              4      2  347082  31.275   NaN        S  \n",
       "611              1      5  347082  31.275   NaN        S  \n",
       "814              4      2  347082  31.275   NaN        S  \n",
       "851              4      2  347082  31.275   NaN        S  "
      ]
     },
     "execution_count": 35,
     "metadata": {},
     "output_type": "execute_result"
    }
   ],
   "source": [
    "data_train[data_train['Ticket']=='347082'].drop('logFare', axis=1)"
   ]
  },
  {
   "cell_type": "markdown",
   "metadata": {
    "_cell_guid": "0fd80e0e-144a-44e6-a0b9-10799ad937c8",
    "_uuid": "0551e441fea93e54233acb73bc5af6416c4a13c2"
   },
   "source": [
    "<div class=\"alert alert-danger\">\n",
    "<b>Tickets</b><br><br>\n",
    "Unfortunately, it's a long shot: we'll simply drop the `Ticket` without further investigations.<br>Nevertheless, we keep the idea of deriving a feature with the total number of family members from the example of family Andersson traveling with ticket nr. 347082.</div><br>"
   ]
  },
  {
   "cell_type": "markdown",
   "metadata": {
    "_cell_guid": "f577ab1b-57df-45a4-af0f-a96dc2adf572",
    "_uuid": "52dcebbd028c2ef1a64e6e627d40204238771736"
   },
   "source": [
    "### Name\n",
    "There would be a lot to say and to try regarding the name, justifying a dedicated notebook on this topic. At this stage, this is beyond the scope of this notebook, so we'll very briefly address the `Name` using a simplistic approach, without spending too much time on it.\n",
    "<div class=\"alert alert-warning\">\n",
    "<b>Name tokenization and further treatments: off-topic</b><br><br>\n",
    "There would be a lot to say about engineering the `Name`, advocating for a detailed treatment of this data, but we won't do it here: we simply list here a couple of ideas that could be implemented to address the issue<br>\n",
    "<ul><li>Tokenization could be tempted on this string, in order to separate words and strip spaces and special characters.</li>\n",
    "<li>A detection of most recurrent words could be implemented in order to derive titles that could be dummified, this has been done elsewhere several times and is well documented.</li>\n",
    "<li>There seems to be a structure that might allow for the construction of full families and why not even graphs, since we could extract the last name, and possibly maiden name that are very often put in brackets at the end of the name. This would therefore require a significant treatment.</li>\n",
    "</ul></div><br>\n",
    "Instead, we make this simple observation: longer names is correlated to better chances of survival."
   ]
  },
  {
   "cell_type": "code",
   "execution_count": 36,
   "metadata": {
    "_cell_guid": "e2151c2d-ff77-4cc7-9fab-457bddfd3f13",
    "_uuid": "71bf31f296165729cca0abb0cd62cb4957dddc48"
   },
   "outputs": [
    {
     "data": {
      "image/png": "[encoded data removed]",
      "text/plain": [
       "<matplotlib.figure.Figure at 0xc81b668>"
      ]
     },
     "metadata": {},
     "output_type": "display_data"
    }
   ],
   "source": [
    "sns.violinplot(x=data_train.Survived,y=data_train['Name'].apply(len));"
   ]
  },
  {
   "cell_type": "markdown",
   "metadata": {
    "_cell_guid": "7f265787-2ba2-4845-b34b-f99c1e5beb8c",
    "_uuid": "aba8f06228ecdbed611835cd0a15d2d95c57ebdf"
   },
   "source": [
    "<div class=\"alert alert-success\">\n",
    "<b>Name</b><br><br>\n",
    "In this first attempt, we'll derive the length of the name as a prediction variable and drop the name.\n",
    "</div><br>"
   ]
  },
  {
   "cell_type": "markdown",
   "metadata": {
    "_cell_guid": "d32f2d7d-ff8a-4cf5-8a44-1b7a78fe998f",
    "_uuid": "a878c4d5987cb017ce3fd53b323f70e0bbead96a"
   },
   "source": [
    "### Cabin\n",
    "The `Cabin` feature contains one or more cabins reserved by the passenger, if any. A great number of passengers do not have a cabin and probably sleep in a dormitory."
   ]
  },
  {
   "cell_type": "code",
   "execution_count": 37,
   "metadata": {
    "_cell_guid": "1c4f94bb-235c-4e2c-9a1f-41abbbe3fe4a",
    "_uuid": "66f0c90df8676b7c9a5d4ffd7dd32d0c991c3c82"
   },
   "outputs": [
    {
     "data": {
      "text/plain": [
       "array([nan, 'C85', 'C123', 'E46', 'G6', 'C103', 'D56', 'A6', 'C23 C25 C27',\n",
       "       'B78', 'D33', 'B30', 'C52', 'B28', 'C83', 'F33', 'F G73', 'E31',\n",
       "       'A5', 'D10 D12', 'D26', 'C110', 'B58 B60', 'E101', 'F E69', 'D47',\n",
       "       'B86', 'F2', 'C2', 'E33', 'B19', 'A7', 'C49', 'F4', 'A32', 'B4',\n",
       "       'B80', 'A31', 'D36', 'D15', 'C93', 'C78', 'D35', 'C87', 'B77',\n",
       "       'E67', 'B94', 'C125', 'C99', 'C118', 'D7', 'A19', 'B49', 'D',\n",
       "       'C22 C26', 'C106', 'C65', 'E36', 'C54', 'B57 B59 B63 B66', 'C7',\n",
       "       'E34', 'C32', 'B18', 'C124', 'C91', 'E40', 'T', 'C128', 'D37',\n",
       "       'B35', 'E50', 'C82', 'B96 B98', 'E10', 'E44', 'A34', 'C104', 'C111',\n",
       "       'C92', 'E38', 'D21', 'E12', 'E63', 'A14', 'B37', 'C30', 'D20',\n",
       "       'B79', 'E25', 'D46', 'B73', 'C95', 'B38', 'B39', 'B22', 'C86',\n",
       "       'C70', 'A16', 'C101', 'C68', 'A10', 'E68', 'B41', 'A20', 'D19',\n",
       "       'D50', 'D9', 'A23', 'B50', 'A26', 'D48', 'E58', 'C126', 'B71',\n",
       "       'B51 B53 B55', 'D49', 'B5', 'B20', 'F G63', 'C62 C64', 'E24', 'C90',\n",
       "       'C45', 'E8', 'B101', 'D45', 'C46', 'D30', 'E121', 'D11', 'E77',\n",
       "       'F38', 'B3', 'D6', 'B82 B84', 'D17', 'A36', 'B102', 'B69', 'E49',\n",
       "       'C47', 'D28', 'E17', 'A24', 'C50', 'B42', 'C148'], dtype=object)"
      ]
     },
     "execution_count": 37,
     "metadata": {},
     "output_type": "execute_result"
    }
   ],
   "source": [
    "data_train['Cabin'].unique()"
   ]
  },
  {
   "cell_type": "markdown",
   "metadata": {
    "_cell_guid": "94904ba7-b891-4a80-8d0c-0db38f65499d",
    "_uuid": "2d1bd9bfefd273ced1b0029457fa916acaee5436"
   },
   "source": [
    "A cabin number is (relatively) standard. There are some exceptions but cabins are composed of a letter comprised between `A` and `F` followed by a number. The number is probably useless but the letter is the deck where the cabin was located.\n",
    "\n",
    "We can derive a feature from this deck letter and add a separate level for passengers not having a cabin. As the decks are ordered from A to F, we can probably make this an ordinal variable encoded as an integer."
   ]
  },
  {
   "cell_type": "code",
   "execution_count": 38,
   "metadata": {
    "_cell_guid": "714fd472-ee25-4762-841a-8b4527d6d20f",
    "_uuid": "c2b1c20641661d3f158545b4de495e46c4230d86"
   },
   "outputs": [
    {
     "data": {
      "image/png": "[encoded data removed]",
      "text/plain": [
       "<matplotlib.figure.Figure at 0xd903358>"
      ]
     },
     "metadata": {},
     "output_type": "display_data"
    }
   ],
   "source": [
    "data_train['Deck'] = data_train['Cabin'].str.extract('(^[A-Z]{1})', expand=True).fillna('G')\n",
    "data_train['Deck'] = data_train['Deck'] \\\n",
    "        .replace(['A','B','C','D','E','F','G','T'],[1,2,3,4,5,6,7,8])\n",
    "    \n",
    "sns.countplot(data=data_train, x='Deck');"
   ]
  },
  {
   "cell_type": "code",
   "execution_count": 39,
   "metadata": {
    "_cell_guid": "03ec2898-815e-4d5b-ab5a-6186bccc7b75",
    "_uuid": "74873abdf3eccb22d7ca7ba5dea0ce0f0b07367b"
   },
   "outputs": [
    {
     "data": {
      "image/png": "[encoded data removed]",
      "text/plain": [
       "<matplotlib.figure.Figure at 0xc8395c0>"
      ]
     },
     "metadata": {},
     "output_type": "display_data"
    }
   ],
   "source": [
    "sns.pointplot(x='Deck', y='Survived', hue='Sex', data=data_train);"
   ]
  },
  {
   "cell_type": "markdown",
   "metadata": {
    "_cell_guid": "467e3e86-2811-4d3e-a678-a4e75c17e91f",
    "_uuid": "e9a5befece17f4621b89db6323c4d921ef64582c"
   },
   "source": [
    "We see that actually, the fact to have a cabin or not (level 7) is probably more significant on chances of survival than the `Deck` variable.\n",
    "\n",
    "<div class=\"alert alert-success\">\n",
    "<b>Cabin</b><br><br>\n",
    "In this first attempt, we'll extract the deck of the first cabin, if any (first letter of the string) and complete the dataset with an additional level for missing values (dormitories). Then, we'll recode this on integers as the decks are ordered. Alternatively, it might simply be as efficient to derive a variable based upon the fact to have a cabin or not. \n",
    "</div><br>"
   ]
  },
  {
   "cell_type": "markdown",
   "metadata": {
    "_cell_guid": "23619355-1b89-4158-adff-e56a4c9ad5d5",
    "_uuid": "d52a58da1406f47514773fbafd8c874424f93f03"
   },
   "source": [
    "# 4.Adding new features\n",
    "As we finished the exploration of the base dataset, we saw that a number of features can easily be derived from the base dataset, respectively:\n",
    "\n",
    "|New feature|Derived from|Legend                                            |\n",
    "|-----------------|-------------------|----------------------------------------------|\n",
    "|Fsize             |SibSp, Parch |Family size                                      |\n",
    "|Adult            |Age                 |If a passenger is older than 15   |\n",
    "|logFare        |Fare                |A logarithm of the Fare (scaling)|\n",
    "|lenName     |Name             |Length of the name                       |\n",
    "|hasCabin     |Cabin             |Passenger has a cabin                  |"
   ]
  },
  {
   "cell_type": "code",
   "execution_count": 41,
   "metadata": {
    "_cell_guid": "50bac36f-828e-4978-b304-cc01a0273c03",
    "_uuid": "694d4af0c10c5bf16e83ff65c3729759d2966cfd"
   },
   "outputs": [
    {
     "data": {
      "text/html": [
       "<div>\n",
       "<style scoped>\n",
       "    .dataframe tbody tr th:only-of-type {\n",
       "        vertical-align: middle;\n",
       "    }\n",
       "\n",
       "    .dataframe tbody tr th {\n",
       "        vertical-align: top;\n",
       "    }\n",
       "\n",
       "    .dataframe thead th {\n",
       "        text-align: right;\n",
       "    }\n",
       "</style>\n",
       "<table border=\"1\" class=\"dataframe\">\n",
       "  <thead>\n",
       "    <tr style=\"text-align: right;\">\n",
       "      <th></th>\n",
       "      <th>Survived</th>\n",
       "      <th>Pclass</th>\n",
       "      <th>Sex</th>\n",
       "      <th>Age</th>\n",
       "      <th>Embarked</th>\n",
       "      <th>Fsize</th>\n",
       "      <th>Adult</th>\n",
       "      <th>logFare</th>\n",
       "      <th>lenName</th>\n",
       "      <th>hasCabin</th>\n",
       "      <th>Deck</th>\n",
       "    </tr>\n",
       "    <tr>\n",
       "      <th>PassengerId</th>\n",
       "      <th></th>\n",
       "      <th></th>\n",
       "      <th></th>\n",
       "      <th></th>\n",
       "      <th></th>\n",
       "      <th></th>\n",
       "      <th></th>\n",
       "      <th></th>\n",
       "      <th></th>\n",
       "      <th></th>\n",
       "      <th></th>\n",
       "    </tr>\n",
       "  </thead>\n",
       "  <tbody>\n",
       "    <tr>\n",
       "      <th>1</th>\n",
       "      <td>0</td>\n",
       "      <td>3</td>\n",
       "      <td>male</td>\n",
       "      <td>22.0</td>\n",
       "      <td>S</td>\n",
       "      <td>1</td>\n",
       "      <td>1</td>\n",
       "      <td>2.110213</td>\n",
       "      <td>23</td>\n",
       "      <td>1</td>\n",
       "      <td>7</td>\n",
       "    </tr>\n",
       "    <tr>\n",
       "      <th>2</th>\n",
       "      <td>1</td>\n",
       "      <td>1</td>\n",
       "      <td>female</td>\n",
       "      <td>38.0</td>\n",
       "      <td>C</td>\n",
       "      <td>1</td>\n",
       "      <td>1</td>\n",
       "      <td>4.280593</td>\n",
       "      <td>51</td>\n",
       "      <td>0</td>\n",
       "      <td>3</td>\n",
       "    </tr>\n",
       "    <tr>\n",
       "      <th>3</th>\n",
       "      <td>1</td>\n",
       "      <td>3</td>\n",
       "      <td>female</td>\n",
       "      <td>26.0</td>\n",
       "      <td>S</td>\n",
       "      <td>0</td>\n",
       "      <td>1</td>\n",
       "      <td>2.188856</td>\n",
       "      <td>22</td>\n",
       "      <td>1</td>\n",
       "      <td>7</td>\n",
       "    </tr>\n",
       "    <tr>\n",
       "      <th>4</th>\n",
       "      <td>1</td>\n",
       "      <td>1</td>\n",
       "      <td>female</td>\n",
       "      <td>35.0</td>\n",
       "      <td>S</td>\n",
       "      <td>1</td>\n",
       "      <td>1</td>\n",
       "      <td>3.990834</td>\n",
       "      <td>44</td>\n",
       "      <td>0</td>\n",
       "      <td>3</td>\n",
       "    </tr>\n",
       "    <tr>\n",
       "      <th>5</th>\n",
       "      <td>0</td>\n",
       "      <td>3</td>\n",
       "      <td>male</td>\n",
       "      <td>35.0</td>\n",
       "      <td>S</td>\n",
       "      <td>0</td>\n",
       "      <td>1</td>\n",
       "      <td>2.202765</td>\n",
       "      <td>24</td>\n",
       "      <td>1</td>\n",
       "      <td>7</td>\n",
       "    </tr>\n",
       "  </tbody>\n",
       "</table>\n",
       "</div>"
      ],
      "text/plain": [
       "             Survived  Pclass     Sex   Age Embarked  Fsize  Adult   logFare  \\\n",
       "PassengerId                                                                    \n",
       "1                   0       3    male  22.0        S      1      1  2.110213   \n",
       "2                   1       1  female  38.0        C      1      1  4.280593   \n",
       "3                   1       3  female  26.0        S      0      1  2.188856   \n",
       "4                   1       1  female  35.0        S      1      1  3.990834   \n",
       "5                   0       3    male  35.0        S      0      1  2.202765   \n",
       "\n",
       "             lenName  hasCabin  Deck  \n",
       "PassengerId                           \n",
       "1                 23         1     7  \n",
       "2                 51         0     3  \n",
       "3                 22         1     7  \n",
       "4                 44         0     3  \n",
       "5                 24         1     7  "
      ]
     },
     "execution_count": 41,
     "metadata": {},
     "output_type": "execute_result"
    }
   ],
   "source": [
    "data_train = pd.read_csv('data/train.csv', index_col=0)\n",
    "\n",
    "# Generating Fsize\n",
    "data_train['Fsize'] = data_train['SibSp'] + data_train['Parch']\n",
    "\n",
    "# Generating Adult\n",
    "data_train['Adult'] = (data_train['Age'] >= 15).astype(int)\n",
    "\n",
    "# Generating logFare\n",
    "data_train['logFare'] = data_train['Fare'].apply(lambda x: np.log(x + 1))\n",
    "\n",
    "# Generating lenName\n",
    "data_train['lenName'] = data_train['Name'].apply(len)\n",
    "\n",
    "# Generating hasCabin\n",
    "data_train['hasCabin'] = data_train['Cabin'].isnull().astype(int)\n",
    "\n",
    "# Generating Deck\n",
    "data_train['Deck'] = data_train['Cabin'].str.extract('(^[A-Z]{1})', expand=True).fillna('G')\n",
    "data_train['Deck'] = data_train['Deck']\\\n",
    "             .replace(['A','B','C','D','E','F','G','T'],[1,2,3,4,5,6,7,8])\n",
    "\n",
    "# Drop features no longer useful\n",
    "data_train = data_train.drop(['SibSp'], axis=1)\\\n",
    "                       .drop(['Parch'], axis=1)\\\n",
    "                       .drop(['Ticket'], axis=1)\\\n",
    "                       .drop(['Fare'], axis=1)\\\n",
    "                       .drop(['Name'], axis=1)\\\n",
    "                       .drop(['Cabin'], axis=1)\n",
    "\n",
    "data_train.head(5)"
   ]
  },
  {
   "cell_type": "markdown",
   "metadata": {
    "_cell_guid": "ef635e5b-24c6-4845-84ec-5e86165ea2a4",
    "_uuid": "67c2dcf7c95dc5b4b5c47952394e97e2b9bf1bc8"
   },
   "source": [
    "## Filling in data gaps\n",
    "We just need now to fill-in the data gaps as discussed above:\n",
    "* Filling in empty values for `Embarked` with the most frequent (and probable) value: `S`.\n",
    "* Filling in empty values for `Age` with the median age."
   ]
  },
  {
   "cell_type": "code",
   "execution_count": 42,
   "metadata": {
    "_cell_guid": "7e6367bb-4523-4d31-a910-caa1e6342b4c",
    "_uuid": "826a455187e8aa419918e7618ce6520843e14237"
   },
   "outputs": [],
   "source": [
    "# Filling in empty Age values.\n",
    "data_train['Age'] = data_train['Age'].fillna(data_train['Age'].median())\n",
    "\n",
    "# Filling in empty values for Embarked\n",
    "data_train['Embarked'] = data_train['Embarked'].fillna('S')"
   ]
  },
  {
   "cell_type": "markdown",
   "metadata": {
    "_cell_guid": "3b03704d-9fdd-44bf-8ed3-e0956f1a0ab5",
    "_uuid": "23d02cbd9ab6a8c07d41f19656526c8dc955117c"
   },
   "source": [
    "<div class=\"alert alert-success\">\n",
    "<b>Data munging</b><br><br>\n",
    "At this stage, we have finished the preparation of our dataset (cleaning, adressing data gaps, enriching the dataset and dropping useless features).  We are now ready to proceed with modelling.\n",
    "</div><br>"
   ]
  },
  {
   "cell_type": "markdown",
   "metadata": {
    "_cell_guid": "b9ab9a25-7994-4f96-903a-cc3b43e4a14a",
    "_uuid": "47d22f9131f9ac7337a666beea7bc07a87a74b8f"
   },
   "source": [
    "# 5.Selecting features\n",
    "We'll now have to selet the features we wish to use with our model.\n",
    "\n",
    "Let's have a look at the clean and enriched data we have at this stage:"
   ]
  },
  {
   "cell_type": "code",
   "execution_count": 43,
   "metadata": {
    "_cell_guid": "f949c845-c07f-49fc-bf92-5a449af811f2",
    "_uuid": "c72ec879959c98b5b930b1676cb3a924da0e5517"
   },
   "outputs": [
    {
     "data": {
      "text/html": [
       "<div>\n",
       "<style scoped>\n",
       "    .dataframe tbody tr th:only-of-type {\n",
       "        vertical-align: middle;\n",
       "    }\n",
       "\n",
       "    .dataframe tbody tr th {\n",
       "        vertical-align: top;\n",
       "    }\n",
       "\n",
       "    .dataframe thead th {\n",
       "        text-align: right;\n",
       "    }\n",
       "</style>\n",
       "<table border=\"1\" class=\"dataframe\">\n",
       "  <thead>\n",
       "    <tr style=\"text-align: right;\">\n",
       "      <th></th>\n",
       "      <th>Survived</th>\n",
       "      <th>Pclass</th>\n",
       "      <th>Sex</th>\n",
       "      <th>Age</th>\n",
       "      <th>Embarked</th>\n",
       "      <th>Fsize</th>\n",
       "      <th>Adult</th>\n",
       "      <th>logFare</th>\n",
       "      <th>lenName</th>\n",
       "      <th>hasCabin</th>\n",
       "      <th>Deck</th>\n",
       "    </tr>\n",
       "    <tr>\n",
       "      <th>PassengerId</th>\n",
       "      <th></th>\n",
       "      <th></th>\n",
       "      <th></th>\n",
       "      <th></th>\n",
       "      <th></th>\n",
       "      <th></th>\n",
       "      <th></th>\n",
       "      <th></th>\n",
       "      <th></th>\n",
       "      <th></th>\n",
       "      <th></th>\n",
       "    </tr>\n",
       "  </thead>\n",
       "  <tbody>\n",
       "    <tr>\n",
       "      <th>1</th>\n",
       "      <td>0</td>\n",
       "      <td>3</td>\n",
       "      <td>male</td>\n",
       "      <td>22.0</td>\n",
       "      <td>S</td>\n",
       "      <td>1</td>\n",
       "      <td>1</td>\n",
       "      <td>2.110213</td>\n",
       "      <td>23</td>\n",
       "      <td>1</td>\n",
       "      <td>7</td>\n",
       "    </tr>\n",
       "    <tr>\n",
       "      <th>2</th>\n",
       "      <td>1</td>\n",
       "      <td>1</td>\n",
       "      <td>female</td>\n",
       "      <td>38.0</td>\n",
       "      <td>C</td>\n",
       "      <td>1</td>\n",
       "      <td>1</td>\n",
       "      <td>4.280593</td>\n",
       "      <td>51</td>\n",
       "      <td>0</td>\n",
       "      <td>3</td>\n",
       "    </tr>\n",
       "    <tr>\n",
       "      <th>3</th>\n",
       "      <td>1</td>\n",
       "      <td>3</td>\n",
       "      <td>female</td>\n",
       "      <td>26.0</td>\n",
       "      <td>S</td>\n",
       "      <td>0</td>\n",
       "      <td>1</td>\n",
       "      <td>2.188856</td>\n",
       "      <td>22</td>\n",
       "      <td>1</td>\n",
       "      <td>7</td>\n",
       "    </tr>\n",
       "    <tr>\n",
       "      <th>4</th>\n",
       "      <td>1</td>\n",
       "      <td>1</td>\n",
       "      <td>female</td>\n",
       "      <td>35.0</td>\n",
       "      <td>S</td>\n",
       "      <td>1</td>\n",
       "      <td>1</td>\n",
       "      <td>3.990834</td>\n",
       "      <td>44</td>\n",
       "      <td>0</td>\n",
       "      <td>3</td>\n",
       "    </tr>\n",
       "    <tr>\n",
       "      <th>5</th>\n",
       "      <td>0</td>\n",
       "      <td>3</td>\n",
       "      <td>male</td>\n",
       "      <td>35.0</td>\n",
       "      <td>S</td>\n",
       "      <td>0</td>\n",
       "      <td>1</td>\n",
       "      <td>2.202765</td>\n",
       "      <td>24</td>\n",
       "      <td>1</td>\n",
       "      <td>7</td>\n",
       "    </tr>\n",
       "  </tbody>\n",
       "</table>\n",
       "</div>"
      ],
      "text/plain": [
       "             Survived  Pclass     Sex   Age Embarked  Fsize  Adult   logFare  \\\n",
       "PassengerId                                                                    \n",
       "1                   0       3    male  22.0        S      1      1  2.110213   \n",
       "2                   1       1  female  38.0        C      1      1  4.280593   \n",
       "3                   1       3  female  26.0        S      0      1  2.188856   \n",
       "4                   1       1  female  35.0        S      1      1  3.990834   \n",
       "5                   0       3    male  35.0        S      0      1  2.202765   \n",
       "\n",
       "             lenName  hasCabin  Deck  \n",
       "PassengerId                           \n",
       "1                 23         1     7  \n",
       "2                 51         0     3  \n",
       "3                 22         1     7  \n",
       "4                 44         0     3  \n",
       "5                 24         1     7  "
      ]
     },
     "execution_count": 43,
     "metadata": {},
     "output_type": "execute_result"
    }
   ],
   "source": [
    "data_train.head(5)"
   ]
  },
  {
   "cell_type": "markdown",
   "metadata": {
    "_cell_guid": "473e5b48-2e01-41c0-a6ab-8a93d18e70cd",
    "_uuid": "4e8b11b0a474dc5ca9bdcb5e14cccbdaee6ba3e4"
   },
   "source": [
    "We start by computing the correlation matrix of our dataset."
   ]
  },
  {
   "cell_type": "code",
   "execution_count": 44,
   "metadata": {
    "_cell_guid": "08a26d9d-707a-4d1f-8335-b99699be9a82",
    "_uuid": "d97f226ae57f9e2a9fdd8a4fbb9788554658d882"
   },
   "outputs": [],
   "source": [
    "corr = data_train.corr()"
   ]
  },
  {
   "cell_type": "markdown",
   "metadata": {
    "_cell_guid": "7eb01b5c-7907-4795-b9c7-44ee8b1b3e37",
    "_uuid": "4a05975567995a440cbe9563069b02d568494daf"
   },
   "source": [
    "And visualise a heatmap of half of this correlation matrix.\n",
    "\n",
    "Remember that a correlation matrix is symetric, therefore half of the information corresponding to one size of the diagonal is redundant. As a good practice, we want to favor readability of our visualisation so we should stick to the \"keep it simple stupid\" (KISS) principle. I then follow the advice of my old six-sigma guru and therefore drop one half of the matrix before displaying the heatmap."
   ]
  },
  {
   "cell_type": "code",
   "execution_count": 45,
   "metadata": {
    "_cell_guid": "d9b242f3-a887-4528-8bb1-4e847ed66b89",
    "_uuid": "2e9353110da496e747c97468f615910f43be2fd6",
    "scrolled": false
   },
   "outputs": [
    {
     "data": {
      "image/png": "[encoded data removed]",
      "text/plain": [
       "<matplotlib.figure.Figure at 0xc7e5160>"
      ]
     },
     "metadata": {},
     "output_type": "display_data"
    }
   ],
   "source": [
    "# The following excerpt is inspired from the seaborn documentation :\n",
    "#http://seaborn.pydata.org/examples/many_pairwise_correlations.html\n",
    "\n",
    "# Generate a mask for the upper triangle\n",
    "mask = np.zeros_like(corr, dtype=np.bool)\n",
    "mask[np.triu_indices_from(mask)] = True\n",
    "\n",
    "# Set up the matplotlib figure\n",
    "f, ax = plt.subplots(figsize=(11, 9))\n",
    "\n",
    "# Draw the heatmap with the mask and correct aspect ratio\n",
    "sns.heatmap(corr, mask=mask, vmax=.3, center=0,\n",
    "            square=True, cmap=cm.viridis, linewidths=.5, cbar_kws={\"shrink\": .5});"
   ]
  },
  {
   "cell_type": "markdown",
   "metadata": {
    "_cell_guid": "609e5fdc-a783-4f5c-9260-959545223331",
    "_uuid": "3eaa554f429a6dba0cd50190f0b3ac4932d9424a"
   },
   "source": [
    "We observe that there is some correlation structures in this dataset, the better correlations are around 0.6.\n",
    "\n",
    "We notice that the label `Survived` is relatively well correlated to `Pclass` and to a lower extent to `Deck` and `hasCabin`. `Age`, `Fsize` and `Adult` are less correlated. On the contrary, `logFare` and `lenName` have a negative correlation with `Survived`.\n",
    "\n",
    "In addition, we also notice that some of the features of this dataset are highly correlated, like `logFare` with `Pclass`, `hasCabin` and `Deck`. It is therefore possible that the information from `logFare` is redundant somehow with the information from the 3 other features.\n",
    "\n",
    "\n",
    "Classical statistic models are sensitive to this issue: bringing several times the same effect into a model can be detrimental to its quality, so let's keep this in mind that dropping `logFare` can be an option if the model quality suffers from high variance."
   ]
  },
  {
   "cell_type": "markdown",
   "metadata": {
    "_cell_guid": "0fc19b15-dfb6-4e4b-aabf-0f91445fc854",
    "_uuid": "f9b11383ddd3d001ed430ab3c189a6538b004ab8"
   },
   "source": [
    "<div class=\"alert alert-success\">\n",
    "<b>Correlations</b><br><br>\n",
    "We had a look at the correlation within our dataset and noticed that some featuresare likely to be good predictors (`Pclass`, `Deck`, `hasCabin`, `lenName`, `logFare`.<br>\n",
    "We also notice correlations within our features which should be kept in mind for feature selection (avoid using highly correlated features together). For instance `logFare` is correlated to `Pclass`, `hasCabin` and `Deck`, and `hasCabin` and `Deck` are correlated.\n",
    "</div><br>"
   ]
  },
  {
   "cell_type": "markdown",
   "metadata": {
    "_cell_guid": "3aa75286-1363-49cb-b0b6-f4db4526f164",
    "_uuid": "cb778b222a93ba47c96d86cbd593e10cce25d624"
   },
   "source": [
    "# 6. Building a feature extractor\n",
    "We are now ready to start a model!\n",
    "\n",
    "But as we are lazy people, let's do this seriously and properly so that it is easy to maintain and use: we are going to create a pipeline to handle our predictions and make our lives easy with feature preparation, training and cross validations.\n",
    "\n",
    "Let's start by creating a __feature extractor__."
   ]
  },
  {
   "cell_type": "markdown",
   "metadata": {
    "_cell_guid": "88013258-f1cc-4d0d-a6db-2409d3956a3a",
    "_uuid": "21d37ef5b546279ade03cbd0694654aaa0c81aed"
   },
   "source": [
    "## Feature extractor\n",
    "We will build a python class `FeatureExtractor` that we'll use to process our raw datasets in order to output the nice and clean dataset we saw a couple of lines before. This feature extractor will go through each and every step we consider relevant for data preparation and output a clean dataset, ready for training. We'll add also a one-hot encoding for categorical features.\n",
    "\n",
    "This somehow boring step will save us time later for the maintenance of our pipeline and the handling of train, cross-validation and handling of test datasets.\n",
    "\n",
    "This is (fortunately) not the case here, but such a feature extractor will allow us to build an out-of-the-box pipeline to put into production a predictor on fresh new data, should it be necessary. The feature extractor we are about to create can be used into any python environment where pandas is available.\n",
    "\n",
    "We'll make use of objects made available by the guys from <a href=http://scikit-learn.org>scikit-learn</a> to build this pipeline and would like to thank the <a href=https://ramp.studio> RAMP Studio</a> team for providing guidance on this good practice."
   ]
  },
  {
   "cell_type": "code",
   "execution_count": 46,
   "metadata": {
    "_cell_guid": "250d6463-e76b-4131-ae47-a83d6790c431",
    "_uuid": "f7f90aa0d83ecbc86ce95a683129b23c5b7d6520"
   },
   "outputs": [],
   "source": [
    "import numpy as np\n",
    "import pandas as pd\n",
    "\n",
    "class FeatureExtractor(object):\n",
    "    def __init__(self):\n",
    "        # Nothing special to address in the constructor\n",
    "        pass\n",
    "    \n",
    "    def fit(self, Xraw_df, y_array):\n",
    "        # No fitting action required, this is a feature extractor\n",
    "        pass\n",
    "    \n",
    "    def transform(self, Xraw_df, return_df=False):\n",
    "        # Feeding the raw data\n",
    "        Xtrf_df = Xraw_df\n",
    "\n",
    "        # Generating new features\n",
    "        Xtrf_df['Fsize'] = Xtrf_df['SibSp'] + Xtrf_df['Parch']\n",
    "        Xtrf_df['Adult'] = (Xtrf_df['Age'] >= 15).astype(int)\n",
    "        Xtrf_df['logFare'] = Xtrf_df['Fare'].apply(lambda x: np.log(x + 1))\n",
    "        Xtrf_df['lenName'] = Xtrf_df['Name'].apply(len)\n",
    "        Xtrf_df['hasCabin'] = Xtrf_df['Cabin'].isnull().astype(int)\n",
    "        Xtrf_df['Deck'] = Xtrf_df['Cabin'].str.extract('(^[A-Z]{1})', expand=True).fillna('G')\n",
    "        Xtrf_df['Deck'] = Xtrf_df['Deck']\\\n",
    "                          .replace(['A','B','C','D','E','F','G','T'],[1,2,3,4,5,6,7,8])\n",
    "        \n",
    "        # Filling in empty values.\n",
    "        Xtrf_df['Age'] = Xtrf_df['Age'].fillna(Xtrf_df['Age'].median())\n",
    "        Xtrf_df['Embarked'] = Xtrf_df['Embarked'].fillna('S')\n",
    "        \n",
    "        # One-hot encoding of categorical features\n",
    "        Xtrf_df = pd.concat([Xtrf_df,\n",
    "                            pd.get_dummies(Xtrf_df['Sex'], prefix='Sex', drop_first=True),\n",
    "                            pd.get_dummies(Xtrf_df['Embarked'], prefix='Emb')],\n",
    "                            axis=1)\n",
    "        \n",
    "        # Droping features no longer useful\n",
    "        Xtrf_df = Xtrf_df.drop(['SibSp'], axis=1)\\\n",
    "                         .drop(['Parch'], axis=1)\\\n",
    "                         .drop(['Ticket'], axis=1)\\\n",
    "                         .drop(['Fare'], axis=1)\\\n",
    "                         .drop(['Name'], axis=1)\\\n",
    "                         .drop(['Cabin'], axis=1)\\\n",
    "                         .drop(['Sex'], axis=1)\\\n",
    "                         .drop(['Embarked'], axis=1)\n",
    "        \n",
    "        # Returning the output, numpy array is default unless specified otherwise.\n",
    "        if return_df==True:\n",
    "            return Xtrf_df\n",
    "        else:\n",
    "            return Xtrf_df.values"
   ]
  },
  {
   "cell_type": "markdown",
   "metadata": {
    "_cell_guid": "3e11d1b8-7a60-418d-b4d8-e899b37290dd",
    "_uuid": "e826e1f7bc46d266b02b6a8529f4e483df0a0630"
   },
   "source": [
    "Nothing more than the wrap-up of what we did so far, let's test it now."
   ]
  },
  {
   "cell_type": "code",
   "execution_count": 48,
   "metadata": {
    "_cell_guid": "ea27ad46-d36f-4f88-b615-9c0bb56efb1b",
    "_uuid": "3638611abfdc72d039ede9645da1100593700dd7",
    "scrolled": true
   },
   "outputs": [
    {
     "data": {
      "text/html": [
       "<div>\n",
       "<style scoped>\n",
       "    .dataframe tbody tr th:only-of-type {\n",
       "        vertical-align: middle;\n",
       "    }\n",
       "\n",
       "    .dataframe tbody tr th {\n",
       "        vertical-align: top;\n",
       "    }\n",
       "\n",
       "    .dataframe thead th {\n",
       "        text-align: right;\n",
       "    }\n",
       "</style>\n",
       "<table border=\"1\" class=\"dataframe\">\n",
       "  <thead>\n",
       "    <tr style=\"text-align: right;\">\n",
       "      <th></th>\n",
       "      <th>Pclass</th>\n",
       "      <th>Age</th>\n",
       "      <th>Fsize</th>\n",
       "      <th>Adult</th>\n",
       "      <th>logFare</th>\n",
       "      <th>lenName</th>\n",
       "      <th>hasCabin</th>\n",
       "      <th>Deck</th>\n",
       "      <th>Sex_male</th>\n",
       "      <th>Emb_C</th>\n",
       "      <th>Emb_Q</th>\n",
       "      <th>Emb_S</th>\n",
       "    </tr>\n",
       "    <tr>\n",
       "      <th>PassengerId</th>\n",
       "      <th></th>\n",
       "      <th></th>\n",
       "      <th></th>\n",
       "      <th></th>\n",
       "      <th></th>\n",
       "      <th></th>\n",
       "      <th></th>\n",
       "      <th></th>\n",
       "      <th></th>\n",
       "      <th></th>\n",
       "      <th></th>\n",
       "      <th></th>\n",
       "    </tr>\n",
       "  </thead>\n",
       "  <tbody>\n",
       "    <tr>\n",
       "      <th>1</th>\n",
       "      <td>3</td>\n",
       "      <td>22.0</td>\n",
       "      <td>1</td>\n",
       "      <td>1</td>\n",
       "      <td>2.110213</td>\n",
       "      <td>23</td>\n",
       "      <td>1</td>\n",
       "      <td>7</td>\n",
       "      <td>1</td>\n",
       "      <td>0</td>\n",
       "      <td>0</td>\n",
       "      <td>1</td>\n",
       "    </tr>\n",
       "    <tr>\n",
       "      <th>2</th>\n",
       "      <td>1</td>\n",
       "      <td>38.0</td>\n",
       "      <td>1</td>\n",
       "      <td>1</td>\n",
       "      <td>4.280593</td>\n",
       "      <td>51</td>\n",
       "      <td>0</td>\n",
       "      <td>3</td>\n",
       "      <td>0</td>\n",
       "      <td>1</td>\n",
       "      <td>0</td>\n",
       "      <td>0</td>\n",
       "    </tr>\n",
       "    <tr>\n",
       "      <th>3</th>\n",
       "      <td>3</td>\n",
       "      <td>26.0</td>\n",
       "      <td>0</td>\n",
       "      <td>1</td>\n",
       "      <td>2.188856</td>\n",
       "      <td>22</td>\n",
       "      <td>1</td>\n",
       "      <td>7</td>\n",
       "      <td>0</td>\n",
       "      <td>0</td>\n",
       "      <td>0</td>\n",
       "      <td>1</td>\n",
       "    </tr>\n",
       "    <tr>\n",
       "      <th>4</th>\n",
       "      <td>1</td>\n",
       "      <td>35.0</td>\n",
       "      <td>1</td>\n",
       "      <td>1</td>\n",
       "      <td>3.990834</td>\n",
       "      <td>44</td>\n",
       "      <td>0</td>\n",
       "      <td>3</td>\n",
       "      <td>0</td>\n",
       "      <td>0</td>\n",
       "      <td>0</td>\n",
       "      <td>1</td>\n",
       "    </tr>\n",
       "    <tr>\n",
       "      <th>5</th>\n",
       "      <td>3</td>\n",
       "      <td>35.0</td>\n",
       "      <td>0</td>\n",
       "      <td>1</td>\n",
       "      <td>2.202765</td>\n",
       "      <td>24</td>\n",
       "      <td>1</td>\n",
       "      <td>7</td>\n",
       "      <td>1</td>\n",
       "      <td>0</td>\n",
       "      <td>0</td>\n",
       "      <td>1</td>\n",
       "    </tr>\n",
       "  </tbody>\n",
       "</table>\n",
       "</div>"
      ],
      "text/plain": [
       "             Pclass   Age  Fsize  Adult   logFare  lenName  hasCabin  Deck  \\\n",
       "PassengerId                                                                  \n",
       "1                 3  22.0      1      1  2.110213       23         1     7   \n",
       "2                 1  38.0      1      1  4.280593       51         0     3   \n",
       "3                 3  26.0      0      1  2.188856       22         1     7   \n",
       "4                 1  35.0      1      1  3.990834       44         0     3   \n",
       "5                 3  35.0      0      1  2.202765       24         1     7   \n",
       "\n",
       "             Sex_male  Emb_C  Emb_Q  Emb_S  \n",
       "PassengerId                                 \n",
       "1                   1      0      0      1  \n",
       "2                   0      1      0      0  \n",
       "3                   0      0      0      1  \n",
       "4                   0      0      0      1  \n",
       "5                   1      0      0      1  "
      ]
     },
     "execution_count": 48,
     "metadata": {},
     "output_type": "execute_result"
    }
   ],
   "source": [
    "feature_extractor = FeatureExtractor()\n",
    "\n",
    "data_train = pd.read_csv('data/train.csv', index_col=0)\n",
    "X_df = feature_extractor.transform(data_train.drop(['Survived'], axis=1), return_df=True)\n",
    "X_df.head(5)"
   ]
  },
  {
   "cell_type": "code",
   "execution_count": 49,
   "metadata": {
    "_cell_guid": "8edd33f8-2714-412b-98c8-22fe6c43c4d9",
    "_uuid": "aa96aef75b90fced73f762b67bf31e475cb2fa11"
   },
   "outputs": [],
   "source": [
    "X_train = feature_extractor.transform(data_train.drop(['Survived'], axis=1))\n",
    "y_train = data_train['Survived'].values"
   ]
  },
  {
   "cell_type": "markdown",
   "metadata": {
    "_cell_guid": "5f0b9e0c-59af-409e-a2ae-aadc8e7b2f21",
    "_uuid": "00addf1f69dd813b16a49f3cd7648dd244a9b048"
   },
   "source": [
    "We are now ready for training models.\n",
    "# 7.Predictor\n",
    "### Choice of a predictor\n",
    "We are challenged to predict __the survival of the passengers (`Survived`), which is 0 or 1__. The quality of our model will be assessed for its __accuracy__.\n",
    "\n",
    "We need to build a __classifier__.\n",
    "\n",
    "In a first attempt, let's try a high performance gradient boosting decision tree based classifier, provided by <a href=https://github.com/Microsoft/LightGBM>lightGBM</a>. The <a href=http://lightgbm.readthedocs.io/en/latest/index.html>documentation for Light GBM</a> is quite comprehensive. LightGBM provides fast and often very efficient classifiers, that performs quite well in many cases. We'll use the API provided for <a href=http://lightgbm.readthedocs.io/en/latest/Python-API.html#scikit-learn-api>Scikit-learn</a>.\n",
    "\n",
    "A first default classifier is quite simple to implement."
   ]
  },
  {
   "cell_type": "code",
   "execution_count": 50,
   "metadata": {
    "_cell_guid": "ca086c50-608d-4255-ac74-383f0c1d2186",
    "_uuid": "8a79cc2e9ef9ca7ba237f7872152abe9fd35e1b4"
   },
   "outputs": [
    {
     "ename": "ModuleNotFoundError",
     "evalue": "No module named 'lightgbm'",
     "output_type": "error",
     "traceback": [
      "\u001b[1;31m---------------------------------------------------------------------------\u001b[0m",
      "\u001b[1;31mModuleNotFoundError\u001b[0m                       Traceback (most recent call last)",
      "\u001b[1;32m<ipython-input-50-7af68a233a9b>\u001b[0m in \u001b[0;36m<module>\u001b[1;34m()\u001b[0m\n\u001b[1;32m----> 1\u001b[1;33m \u001b[1;32mimport\u001b[0m \u001b[0mlightgbm\u001b[0m \u001b[1;32mas\u001b[0m \u001b[0mlgbm\u001b[0m\u001b[1;33m\u001b[0m\u001b[0m\n\u001b[0m\u001b[0;32m      2\u001b[0m \u001b[1;33m\u001b[0m\u001b[0m\n\u001b[0;32m      3\u001b[0m \u001b[0mclf\u001b[0m \u001b[1;33m=\u001b[0m \u001b[0mlgbm\u001b[0m\u001b[1;33m.\u001b[0m\u001b[0msklearn\u001b[0m\u001b[1;33m.\u001b[0m\u001b[0mLGBMClassifier\u001b[0m\u001b[1;33m(\u001b[0m\u001b[1;33m)\u001b[0m\u001b[1;33m\u001b[0m\u001b[0m\n\u001b[0;32m      4\u001b[0m \u001b[0mclf\u001b[0m\u001b[1;33m.\u001b[0m\u001b[0mfit\u001b[0m\u001b[1;33m(\u001b[0m\u001b[0mX_train\u001b[0m\u001b[1;33m,\u001b[0m \u001b[0my_train\u001b[0m\u001b[1;33m)\u001b[0m\u001b[1;33m\u001b[0m\u001b[0m\n\u001b[0;32m      5\u001b[0m \u001b[0mclf\u001b[0m\u001b[1;33m\u001b[0m\u001b[0m\n",
      "\u001b[1;31mModuleNotFoundError\u001b[0m: No module named 'lightgbm'"
     ]
    }
   ],
   "source": [
    "import lightgbm as lgbm\n",
    "\n",
    "clf = lgbm.sklearn.LGBMClassifier()\n",
    "clf.fit(X_train, y_train)\n",
    "clf"
   ]
  },
  {
   "cell_type": "markdown",
   "metadata": {
    "_cell_guid": "693b13fc-4ed6-4c52-9ca3-83576018e221",
    "_uuid": "f401d8c5450369510932333fcb96455150ea19b5"
   },
   "source": [
    "Making prediction with Scikit-learn is easy."
   ]
  },
  {
   "cell_type": "code",
   "execution_count": null,
   "metadata": {
    "_cell_guid": "d737074a-8df2-47c4-a121-644b8a4ca1e4",
    "_uuid": "206de128c90a4079b55e75d8e03430145715709d",
    "collapsed": true,
    "scrolled": true
   },
   "outputs": [],
   "source": [
    "y_pred = clf.predict(X_train)"
   ]
  },
  {
   "cell_type": "markdown",
   "metadata": {
    "_cell_guid": "7d3a1511-1180-4eb0-a574-9e71de24e65f",
    "_uuid": "906bdb20e26f2091555a461278fa8318fab02ada"
   },
   "source": [
    "As well as scoring our model."
   ]
  },
  {
   "cell_type": "code",
   "execution_count": null,
   "metadata": {
    "_cell_guid": "204a71dd-5608-4d07-be3c-176849d9a0c1",
    "_uuid": "be2308f51bae542bdd99fc8ae168db4325b90366",
    "collapsed": true
   },
   "outputs": [],
   "source": [
    "from sklearn.metrics import accuracy_score\n",
    "accuracy_score(y_train, y_pred)"
   ]
  },
  {
   "cell_type": "markdown",
   "metadata": {
    "_cell_guid": "06ec0804-a62f-4735-a50a-4dccb88ef9ca",
    "_uuid": "8ff898f02884ff78f72acd3b05a29c0c14a36708"
   },
   "source": [
    "Nice ! But wait... it's not that easy!\n",
    "\n",
    "<div class=\"alert alert-danger\">\n",
    "<b>Malpractice</b><br><br>\n",
    "It is not good practice to rely on a model evaluation based upon its training dataset, since it's not \"playing fair\": the model knows already the data used to evaluate its performance. Therefore, it will not be possible to detect <i>overfitting</i> and validate if our model is indeed a good quality predictor, or if it just stupidly \"interpolated\" the data and does not perform well on fresh new data.<br>\n",
    "We need to go through __cross validation__ to train and check if our model performs well on fresh data not used for training.\n",
    "</div><br>"
   ]
  },
  {
   "cell_type": "markdown",
   "metadata": {
    "_cell_guid": "6b4fb503-c10a-442d-9e17-026ed0fabf14",
    "_uuid": "fab167bc6953de35f34ca6a428719da1369fc34d"
   },
   "source": [
    "# 8. Cross validation and optimisation of hyper parameters\n",
    "At this stage, we'll go iteratively through __hyperparameters optimisation__ and __cross validation (cv)__.\n",
    "\n",
    "There are strategies to test hyperparameters, amongst them:\n",
    "* we can test each combination, strategy proposed by GridSearchCV from Scikit-learn, or\n",
    "* we can try to test only a limited number of combinations, strategy proposed by the package <a href=https://hyperopt.github.io/hyperopt/>Hyperopt</a> (random or guided strategies).\n",
    "\n",
    "There's no unique or perfect strategy: here, we'll try to follow the path proposed by `Hyperopt`.\n",
    "## Defining a strategy for cross validation.\n",
    "We need to define a strategy for cross validation: how will we split our train dataset to save some data to evaluate the performances of our model in termes of accuracy. \n",
    "* We'll use KFold to make and test 5 splits of our train dataset,\n",
    "* We'll use cross_val_score to compute the accuracy on our 5 splits from the train dataset (X_train, y_train).\n",
    "\n",
    "## Building a predictor to optimize.\n",
    "We need to build an object `objective` that defines a predictor that will allow us to test and optimise the hyperparameters of a `LGBMClassifier`, see the documentation of this predictor <a href=http://lightgbm.readthedocs.io/en/latest/Python-API.html#lightgbm.LGBMClassifier>here</a>."
   ]
  },
  {
   "cell_type": "code",
   "execution_count": null,
   "metadata": {
    "_cell_guid": "b7b2b5b2-2c64-46d4-a408-d87f2c7707d7",
    "_uuid": "fe4bab4b659639f162d5b48238756013847b2edc",
    "collapsed": true
   },
   "outputs": [],
   "source": [
    "from sklearn.model_selection import cross_val_score, KFold\n",
    "\n",
    "cv = KFold(n_splits=5, random_state=42)\n",
    "\n",
    "i = 0\n",
    "def objective(params):\n",
    "    global i\n",
    "    i += 1\n",
    "    print(params)\n",
    "    clf = lgbm.sklearn.LGBMClassifier(num_leaves = int(params['num_leaves']),\n",
    "                                     max_depth = int(params['max_depth']),\n",
    "                                     learning_rate = float(params['learning_rate']),\n",
    "                                     n_estimators = int(params['n_estimators']),\n",
    "                                     random_state = 42)\n",
    "    scores = cross_val_score(clf, X_train, y_train, cv=cv, scoring='accuracy', n_jobs=3)\n",
    "    score = np.mean(scores)\n",
    "    print(\"Accuracy: %s\" % score)\n",
    "    print('-----------------')\n",
    "    df_result_hyperopt.loc[i, ['score'] + list(params.keys())] = [score] + list(params.values())\n",
    "    return {'loss': 1. - score, 'status': STATUS_OK}"
   ]
  },
  {
   "cell_type": "code",
   "execution_count": null,
   "metadata": {
    "_cell_guid": "b4aebb57-4b2a-44fa-a460-aa6a380df8f1",
    "_uuid": "3d378468ab8ff61f16f3043854ecc9b51724417b",
    "collapsed": true,
    "scrolled": false
   },
   "outputs": [],
   "source": [
    "from hyperopt import fmin, tpe, hp, Trials, STATUS_OK\n",
    "\n",
    "space = {'num_leaves': hp.quniform('num_leaves', 5, 50, 5),\n",
    "        'max_depth': hp.quniform('max_depth', 1, 10, 2),\n",
    "        'learning_rate': hp.quniform('learning_rate', 0.05, 0.1, 0.05),\n",
    "        'n_estimators': hp.quniform('n_estimators', 50, 300, 50)}\n",
    "\n",
    "df_result_hyperopt = pd.DataFrame(columns = ['score'] + list(space.keys()))\n",
    "\n",
    "i = 0\n",
    "trials = Trials()\n",
    "\n",
    "best = fmin(fn=objective,\n",
    "            space=space,\n",
    "            algo=tpe.suggest,\n",
    "            max_evals=3,\n",
    "            trials=trials)\n",
    "\n",
    "print(\"Best: %s\" % best)"
   ]
  },
  {
   "cell_type": "markdown",
   "metadata": {
    "_cell_guid": "cd4735d9-a069-481c-8a5a-8b81b73fc339",
    "_uuid": "f1aab467bc16752aa2ea6d0d6825789c4a216cdb"
   },
   "source": [
    "Etc.\n",
    "\n",
    "This remains a relatively time consuming and iterative process, the above described example is for illustration only, it is shortened due to the low value of `max_eval`. Feel free to raise the value of `max_eval` to allow for more iterations (better, but longer)."
   ]
  },
  {
   "cell_type": "markdown",
   "metadata": {
    "_cell_guid": "21f702f7-b3f2-42cc-8f2e-6b9db086d824",
    "_uuid": "9fe9e9df1bcecbf0395ab20ae3b4b9c9a067f7bf",
    "collapsed": true
   },
   "source": [
    "### Final predictor\n",
    "Based upon the above optimisation, we'll keep the following predictor."
   ]
  },
  {
   "cell_type": "code",
   "execution_count": null,
   "metadata": {
    "_cell_guid": "1a5dfd12-2eb2-4559-ae10-cfe65e71b422",
    "_uuid": "3bcf26126b785a5e13bef6fcff49cda0a41e0ac9",
    "collapsed": true
   },
   "outputs": [],
   "source": [
    "import lightgbm as lgbm\n",
    "\n",
    "clf = lgbm.sklearn.LGBMClassifier(num_leaves = 27,\n",
    "                                  max_depth = 10,\n",
    "                                  learning_rate = 0.05,\n",
    "                                  n_estimators = 200,\n",
    "                                  random_state = 42)\n",
    "clf"
   ]
  },
  {
   "cell_type": "markdown",
   "metadata": {
    "_cell_guid": "0bd34080-8de4-4c61-936f-2ca7b3a9d6f6",
    "_uuid": "27b3a58b3f97b345f61694ec6a1e8e2589edd746"
   },
   "source": [
    "# 8.Making predictions\n",
    "We're almost done, we'll now feed the pipeline we built to make our predictions for the challenge.\n",
    "\n",
    "Now, let's wrap-up the whole thing."
   ]
  },
  {
   "cell_type": "code",
   "execution_count": null,
   "metadata": {
    "_cell_guid": "e4f1e4f3-78a3-4382-8c69-485e9a3156fb",
    "_uuid": "d7c3e6de60e137990197481ac58e2c7fd1e1c72a",
    "collapsed": true
   },
   "outputs": [],
   "source": [
    "# Creating the pipeline\n",
    "feature_extractor = FeatureExtractor()\n",
    "\n",
    "# Feeding the pipeline with training data\n",
    "data_train = pd.read_csv('../input/train.csv', index_col=0)\n",
    "X_train = feature_extractor.transform(data_train.drop(['Survived'], axis=1))\n",
    "y_train = data_train['Survived'].values\n",
    "\n",
    "# Training the model\n",
    "clf.fit(X_train, y_train)\n",
    "\n",
    "# Feeding the pipeline with test data and making predictions\n",
    "data_test = pd.read_csv('../input/test.csv', index_col=0)\n",
    "X_test = feature_extractor.transform(data_test)\n",
    "y_pred = clf.predict(X_test)\n",
    "\n",
    "# Reconstructing the output dataframe\n",
    "pred_df = pd.DataFrame()\n",
    "pred_df['PassengerId'] = data_test.index\n",
    "pred_df['Survived'] = y_pred\n",
    "pred_df.head(10)"
   ]
  },
  {
   "cell_type": "markdown",
   "metadata": {
    "_cell_guid": "fe90b6a0-2581-4124-be83-0119cb236f62",
    "_uuid": "7c28083111ae0f9711a79d47571d9a71f5d7c6ce",
    "collapsed": true
   },
   "source": [
    "We just have to serialise our final output `pred_df`"
   ]
  },
  {
   "cell_type": "code",
   "execution_count": null,
   "metadata": {
    "_cell_guid": "3f7267a5-dff9-4ee1-910e-a888b36d15ed",
    "_uuid": "d6de6d0096b867eca71261a21303c3303eee5238",
    "collapsed": true
   },
   "outputs": [],
   "source": [
    "pred_df.to_csv(\"../working/predictions.csv\", index=False)"
   ]
  },
  {
   "cell_type": "markdown",
   "metadata": {
    "_cell_guid": "9550f8dc-7004-456c-80c3-c0fa83289854",
    "_uuid": "093f05ecd541056f9ce5b4536963e1e279d79276"
   },
   "source": [
    "We just have to submit it now...\n",
    "\n",
    "# That's all folks !\n",
    "I thank you for reading thus far, and hope you enjoyed the reading. Feel free to leave a comment.\n",
    "\n",
    "I've tried to credit every source of inspiration all along, but should you identify some missing credits I will be happy to include the references.\n",
    "\n",
    "Special thanks to all the fellows and the great teachers from X EXED DSSP 7 for their inestimable support and input. "
   ]
  }
 ],
 "metadata": {
  "kernelspec": {
   "display_name": "Python 3",
   "language": "python",
   "name": "python3"
  },
  "language_info": {
   "codemirror_mode": {
    "name": "ipython",
    "version": 3
   },
   "file_extension": ".py",
   "mimetype": "text/x-python",
   "name": "python",
   "nbconvert_exporter": "python",
   "pygments_lexer": "ipython3",
   "version": "3.6.3"
  }
 },
 "nbformat": 4,
 "nbformat_minor": 1
}
